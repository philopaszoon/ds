{
 "cells": [
  {
   "cell_type": "markdown",
   "metadata": {},
   "source": [
    "###### This is where it all comes together.  \n",
    "\n",
    "1: pull data from database\n",
    "\n",
    "2: clean up and merge files\n",
    "\n",
    "3: balance data\n",
    "\n",
    "4: run learning process"
   ]
  },
  {
   "cell_type": "code",
   "execution_count": 1,
   "metadata": {},
   "outputs": [
    {
     "name": "stdout",
     "output_type": "stream",
     "text": [
      "ready\n"
     ]
    }
   ],
   "source": [
    "%matplotlib inline\n",
    "import numpy as np  \n",
    "import pandas as pd\n",
    "import matplotlib.pyplot as plt  \n",
    "\n",
    "from IPython.display import display\n",
    "pd.options.display.max_colwidth = 150\n",
    "\n",
    "print 'ready'"
   ]
  },
  {
   "cell_type": "code",
   "execution_count": null,
   "metadata": {
    "collapsed": true
   },
   "outputs": [],
   "source": []
  },
  {
   "cell_type": "code",
   "execution_count": 7,
   "metadata": {},
   "outputs": [
    {
     "name": "stdout",
     "output_type": "stream",
     "text": [
      "(u'core_entities',)\n",
      "(u'count_features',)\n",
      "(u'count_features_2',)\n",
      "(u'distance_measures_av',)\n",
      "(u'distance_measures_cubed',)\n",
      "(u'distance_measures_dvec',)\n",
      "(u'distance_measures_mixtok',)\n",
      "(u'distance_measures_ordered',)\n",
      "(u'distance_measures_pvec',)\n",
      "(u'distance_measures_sub',)\n",
      "(u'distance_measures_tvec',)\n",
      "(u'distance_measures_wvec',)\n",
      "(u'eppd',)\n",
      "(u'first_words',)\n",
      "(u'first_words_long',)\n",
      "(u'first_words_num',)\n",
      "(u'named_entity_counts',)\n",
      "(u'named_entity_counts_6',)\n",
      "(u'named_entity_movement',)\n",
      "(u'named_entity_movement_final',)\n",
      "(u'nf1_onehot',)\n",
      "(u'nf2_onehot',)\n",
      "(u'peak_var',)\n",
      "(u'quora_backup',)\n",
      "(u'quora_dd',)\n",
      "(u'quora_dd_2',)\n",
      "(u'quoted_string_is_present',)\n",
      "(u'rotation_factors_final',)\n",
      "(u'salience',)\n",
      "(u'spacy_distance_measures',)\n",
      "(u'spacy_sim_values',)\n",
      "(u'word_counts',)\n",
      "(u'xtra_entities',)\n",
      "data ready\n"
     ]
    }
   ],
   "source": [
    "import MySQLdb\n",
    "from lib import trlib as trsubs\n",
    "\n",
    "def dosql(sql):\n",
    "    try:\n",
    "        cursor.execute(sql)\n",
    "        db.commit()\n",
    "    except TypeError as e:\n",
    "        print \"could not update\"\n",
    "        print (e)\n",
    " \n",
    "db, cursor = trsubs.openmysql()\n",
    "\n",
    "## quora_dd_2 has had its contractions expanded.  So, fewer apostophe's to worry about.\n",
    "data             = pd.read_sql('SELECT * FROM quora_dd_2', con=db)\n",
    "\n",
    "#first_words      = pd.read_sql('SELECT * FROM first_words', con=db)\n",
    "#first_words_long = pd.read_sql('SELECT * FROM first_words_long', con=db)\n",
    "first_words      = pd.read_sql('SELECT * FROM first_words_num', con=db)\n",
    "nf1              = pd.read_sql('SELECT * FROM nf1_onehot', con=db)\n",
    "nf2              = pd.read_sql('SELECT * FROM nf2_onehot', con=db)\n",
    "\n",
    "count_features   = pd.read_sql('SELECT * FROM count_features_2', con=db)\n",
    "quoted_strings   = pd.read_sql('SELECT * FROM quoted_string_is_present', con=db)\n",
    "\n",
    "wvec_distance    = pd.read_sql('SELECT * FROM distance_measures_wvec', con=db)\n",
    "pvec_distance    = pd.read_sql('SELECT * FROM distance_measures_pvec', con=db)\n",
    "tvec_distance    = pd.read_sql('SELECT * FROM distance_measures_tvec', con=db)\n",
    "dvec_distance    = pd.read_sql('SELECT * FROM distance_measures_dvec', con=db)\n",
    "\n",
    "ord_distance     = pd.read_sql('SELECT * FROM distance_measures_ordered', con=db)\n",
    "cub_distance     = pd.read_sql('SELECT * FROM distance_measures_cubed', con=db)\n",
    "mix_distance     = pd.read_sql('SELECT * FROM distance_measures_mixtok', con=db)\n",
    "spacy_based      = pd.read_sql('SELECT * FROM spacy_distance_measures', con=db)\n",
    "\n",
    "movement         = pd.read_sql('SELECT * FROM named_entity_movement_final', con=db)\n",
    "rotation         = pd.read_sql('SELECT * FROM rotation_factors_final', con=db)\n",
    "entity_counts    = pd.read_sql('SELECT * FROM named_entity_counts_6', con=db)\n",
    "\n",
    "#cursor.execute(\"show tables\")\n",
    "#results = cursor.fetchall()\n",
    "#for row in results: print row\n",
    "\n",
    "trsubs.closemysql(db)\n",
    "print 'data ready'"
   ]
  },
  {
   "cell_type": "code",
   "execution_count": null,
   "metadata": {
    "collapsed": true
   },
   "outputs": [],
   "source": []
  },
  {
   "cell_type": "code",
   "execution_count": 8,
   "metadata": {},
   "outputs": [
    {
     "name": "stdout",
     "output_type": "stream",
     "text": [
      "data 388060 ['linekey', 'question1', 'question2', 'Y', 'g1', 'g2', 'iid1', 'iid2', 'metagroup1', 'metagroup2'] \n",
      "\n",
      "first_words 388060 ['linekey', 'f1dist', 'f2dist', 'fm1', 'fm2', 'head_dist1', 'head_dist2', 'pos_dist1', 'pos_dist2', 'headpos_dist1', 'headpos_dist2', 'tag_dist1', 'tag_dist2', 'headtag_dist1', 'headtag_dist2', 'dep_dist1', 'dep_dist2', 'headdep_dist1', 'headdep_dist2', 'blob_sim'] \n",
      "\n",
      "nf1 388060 ['linekey', 'time_class_1', 'place_class_1', 'person_class_1', 'fillblank_class_1', 'time_class_2', 'place_class_2', 'person_class_2', 'fillblank_class_2', 'yesno_class_2', 'time_match', 'place_match', 'person_match', 'fillblank_match', 'yesno_match', 'be_1', 'be_2', 'do_1', 'do_2', 'can_1', 'can_2', 'should_1', 'should_2', 'will_1', 'will_2', 'have_1', 'have_2', 'would_1', 'would_2', 'could_1', 'could_2', 'when_1', 'when_2', 'where_1', 'where_2', 'who_1', 'who_2', 'whom_1', 'whom_2', 'what_1', 'what_2', 'how_1', 'how_2', 'why_1', 'why_2', 'which_1', 'which_2', 'if_1', 'if_2', 'for_1', 'for_2', 'explain_1', 'explain_2', 'ADV_pos_1', 'ADV_pos_2', 'NOUN_pos_1', 'NOUN_pos_2', 'ADP_pos_1', 'ADP_pos_2', 'PRON_pos_1', 'PRON_pos_2', 'PROPN_pos_1', 'PROPN_pos_2', 'SPACE_pos_1', 'SPACE_pos_2', 'DET_pos_1', 'DET_pos_2', 'SYM_pos_1', 'SYM_pos_2', 'INTJ_pos_1', 'INTJ_pos_2', 'PART_pos_1', 'PART_pos_2', 'PUNCT_pos_1', 'PUNCT_pos_2', 'VERB_pos_1', 'VERB_pos_2', 'X_pos_1', 'X_pos_2', 'CCONJ_pos_1', 'CCONJ_pos_2', 'NUM_pos_1', 'NUM_pos_2', 'ADJ_pos_1', 'ADJ_pos_2'] \n",
      "\n",
      "nf2 388060 ['linekey', '_dep_1', '_dep_2', 'cc_dep_1', 'cc_dep_2', 'intj_dep_1', 'intj_dep_2', 'meta_dep_1', 'meta_dep_2', 'nsubjpass_dep_1', 'nsubjpass_dep_2', 'csubj_dep_1', 'csubj_dep_2', 'oprd_dep_1', 'oprd_dep_2', 'neg_dep_1', 'neg_dep_2', 'csubjpass_dep_1', 'csubjpass_dep_2', 'mark_dep_1', 'mark_dep_2', 'auxpass_dep_1', 'auxpass_dep_2', 'advcl_dep_1', 'advcl_dep_2', 'aux_dep_1', 'aux_dep_2', 'amod_dep_1', 'amod_dep_2', 'ROOT_dep_1', 'ROOT_dep_2', 'prep_dep_1', 'prep_dep_2', 'nsubj_dep_1', 'nsubj_dep_2', 'nummod_dep_1', 'nummod_dep_2', 'advmod_dep_1', 'advmod_dep_2', 'punct_dep_1', 'punct_dep_2', 'quantmod_dep_1', 'quantmod_dep_2', 'acomp_dep_1', 'acomp_dep_2', 'compound_dep_1', 'compound_dep_2', 'ccomp_dep_1', 'ccomp_dep_2', 'poss_dep_1', 'poss_dep_2', 'npadvmod_dep_1', 'npadvmod_dep_2', 'attr_dep_1', 'attr_dep_2', 'dep_dep_1', 'dep_dep_2', 'det_dep_1', 'det_dep_2', 'nmod_dep_1', 'nmod_dep_2', 'dobj_dep_1', 'dobj_dep_2', 'dative_dep_1', 'dative_dep_2', 'pobj_dep_1', 'pobj_dep_2', 'expl_dep_1', 'expl_dep_2', 'predet_dep_1', 'predet_dep_2', 'preconj_dep_1', 'preconj_dep_2', 'behead_2', '_headdep_1', '_headdep_2', 'cc_headdep_1', 'cc_headdep_2', 'intj_headdep_1', 'intj_headdep_2', 'meta_headdep_1', 'meta_headdep_2', 'nsubjpass_headdep_1', 'nsubjpass_headdep_2', 'csubj_headdep_1', 'csubj_headdep_2', 'oprd_headdep_1', 'oprd_headdep_2', 'neg_headdep_1', 'neg_headdep_2', 'csubjpass_headdep_1', 'csubjpass_headdep_2', 'mark_headdep_1', 'mark_headdep_2', 'auxpass_headdep_1', 'auxpass_headdep_2', 'advcl_headdep_1', 'advcl_headdep_2', 'aux_headdep_1', 'aux_headdep_2', 'amod_headdep_1', 'amod_headdep_2', 'ROOT_headdep_1', 'ROOT_headdep_2', 'prep_headdep_1', 'prep_headdep_2', 'nsubj_headdep_1', 'nsubj_headdep_2', 'nummod_headdep_1', 'nummod_headdep_2', 'advmod_headdep_1', 'advmod_headdep_2', 'punct_headdep_1', 'punct_headdep_2', 'quantmod_headdep_1', 'quantmod_headdep_2', 'acomp_headdep_1', 'acomp_headdep_2', 'compound_headdep_1', 'compound_headdep_2', 'ccomp_headdep_1', 'ccomp_headdep_2', 'poss_headdep_1', 'poss_headdep_2', 'npadvmod_headdep_1', 'npadvmod_headdep_2', 'attr_headdep_1', 'attr_headdep_2', 'dep_headdep_1', 'dep_headdep_2', 'det_headdep_1', 'det_headdep_2', 'nmod_headdep_1', 'nmod_headdep_2', 'dobj_headdep_1', 'dobj_headdep_2', 'dative_headdep_1', 'dative_headdep_2', 'pobj_headdep_1', 'pobj_headdep_2', 'expl_headdep_1', 'expl_headdep_2', 'predet_headdep_1', 'predet_headdep_2', 'preconj_headdep_1', 'preconj_headdep_2'] \n",
      "\n",
      "count_features 388060 ['index', 'linekey', 'ccq1', 'ccq2', 'ccdiff', 'wcq1', 'wcq2', 'abs_ccdiff', 'abs_wcdiff', 'r1', 'r2', 'abs_rr', 'odds_by_charcountdiff', 'odds_by_wordcountdiff'] \n",
      "\n",
      "quoted_strings 388060 ['linekey', 'quoted_string_is_present'] \n",
      "\n",
      "wvec 387902 ['i', 'linekey', 'dist', 'cos', 'angle', 'yv'] \n",
      "\n",
      "pvec 387902 ['i', 'linekey', 'dist', 'cos', 'angle', 'yv'] \n",
      "\n",
      "tvec 387902 ['i', 'linekey', 'dist', 'cos', 'angle', 'yv'] \n",
      "\n",
      "dvec 387902 ['i', 'linekey', 'dist', 'cos', 'angle', 'yv'] \n",
      "\n",
      "ord 388060 ['i', 'linekey', 'vidist', 'exdist', 'cos', 'angle', 'yv'] \n",
      "\n",
      "cub 388060 ['i', 'linekey', 'cos', 'angle', 'yv'] \n",
      "\n",
      "mix 388060 ['i', 'linekey', 'vidist', 'exdist', 'cos', 'angle', 'yv'] \n",
      "\n",
      "movement 388057 ['linekey', 'yv', 'basedist', 'exbasedist', 'basecos', 'vi_dist', 'ex_dist', 'cos', 'vi_diff', 'ex_diff', 'cos_diff'] \n",
      "\n",
      "ent_counts 388060 ['linekey', 'score', 'antiscore', 'narrow_score', 'narrow_antiscore'] \n",
      "\n",
      "rotation 388057 ['linekey', 'sumrotation1', 'sumrotation2', 'maxrotation1', 'maxrotation2', 'numrotated1', 'numrotated2', 'senlen1', 'senlen2', 'percent_rotated1', 'percent_rotated2'] \n",
      "\n",
      "388060 ['linekey', 'yv', 'spacydist', 'spacycos', 'lem_nostop_dist', 'lem_nostop_cos', 'nostop_lem_corrdist'] \n",
      "\n"
     ]
    }
   ],
   "source": [
    "print 'data', len(data), list(data), '\\n'\n",
    "\n",
    "print 'first_words', len(first_words), list(first_words), '\\n'\n",
    "print 'nf1', len(nf1), list(nf1), '\\n'\n",
    "print 'nf2', len(nf2), list(nf2), '\\n'\n",
    "\n",
    "print 'count_features', len(count_features), list(count_features), '\\n'\n",
    "print 'quoted_strings', len(quoted_strings), list(quoted_strings), '\\n'\n",
    "\n",
    "print 'wvec', len(wvec_distance), list(wvec_distance), '\\n'\n",
    "print 'pvec', len(pvec_distance), list(pvec_distance), '\\n'\n",
    "print 'tvec', len(tvec_distance), list(tvec_distance), '\\n'\n",
    "print 'dvec', len(dvec_distance), list(dvec_distance), '\\n'\n",
    "\n",
    "print 'ord', len(ord_distance), list(ord_distance), '\\n'\n",
    "print 'cub', len(cub_distance), list(cub_distance), '\\n'\n",
    "print 'mix', len(mix_distance), list(mix_distance), '\\n'\n",
    "\n",
    "print 'movement', len(movement), list(movement), '\\n'\n",
    "print 'ent_counts', len(entity_counts), list(entity_counts), '\\n'\n",
    "print 'rotation', len(rotation), list(rotation), '\\n'\n",
    "\n",
    "print len(spacy_based), list(spacy_based), '\\n'"
   ]
  },
  {
   "cell_type": "code",
   "execution_count": null,
   "metadata": {
    "collapsed": true
   },
   "outputs": [],
   "source": []
  },
  {
   "cell_type": "code",
   "execution_count": null,
   "metadata": {
    "collapsed": true
   },
   "outputs": [],
   "source": []
  },
  {
   "cell_type": "code",
   "execution_count": null,
   "metadata": {
    "collapsed": true
   },
   "outputs": [],
   "source": []
  },
  {
   "cell_type": "code",
   "execution_count": 10,
   "metadata": {},
   "outputs": [
    {
     "data": {
      "text/plain": [
       "['Y',\n",
       " 'spacydist',\n",
       " 'spacycos',\n",
       " 'lem_nostop_dist',\n",
       " 'lem_nostop_cos',\n",
       " 'nostop_lem_corrdist',\n",
       " 'sumrotation1',\n",
       " 'sumrotation2',\n",
       " 'maxrotation1',\n",
       " 'maxrotation2',\n",
       " 'numrotated1',\n",
       " 'numrotated2',\n",
       " 'senlen1',\n",
       " 'senlen2',\n",
       " 'percent_rotated1',\n",
       " 'percent_rotated2',\n",
       " 'score',\n",
       " 'antiscore',\n",
       " 'narrow_score',\n",
       " 'narrow_antiscore',\n",
       " 'basedist',\n",
       " 'exbasedist',\n",
       " 'basecos',\n",
       " 'vi_dist',\n",
       " 'ex_dist',\n",
       " 'cos',\n",
       " 'vi_diff',\n",
       " 'ex_diff',\n",
       " 'cos_diff',\n",
       " 'f1dist',\n",
       " 'f2dist',\n",
       " 'fm1',\n",
       " 'fm2',\n",
       " 'head_dist1',\n",
       " 'head_dist2',\n",
       " 'pos_dist1',\n",
       " 'pos_dist2',\n",
       " 'headpos_dist1',\n",
       " 'headpos_dist2',\n",
       " 'tag_dist1',\n",
       " 'tag_dist2',\n",
       " 'headtag_dist1',\n",
       " 'headtag_dist2',\n",
       " 'dep_dist1',\n",
       " 'dep_dist2',\n",
       " 'headdep_dist1',\n",
       " 'headdep_dist2',\n",
       " 'blob_sim',\n",
       " 'quoted_string_is_present',\n",
       " 'ccq1',\n",
       " 'ccq2',\n",
       " 'ccdiff',\n",
       " 'wcq1',\n",
       " 'wcq2',\n",
       " 'abs_ccdiff',\n",
       " 'abs_wcdiff',\n",
       " 'r1',\n",
       " 'r2',\n",
       " 'abs_rr',\n",
       " 'odds_by_charcountdiff',\n",
       " 'odds_by_wordcountdiff',\n",
       " 'cos_cub',\n",
       " 'angle_cub',\n",
       " 'vidist_mix',\n",
       " 'exdist_mix',\n",
       " 'cos_mix',\n",
       " 'angle_mix',\n",
       " 'vidist_ord',\n",
       " 'exdist_ord',\n",
       " 'cos_ord',\n",
       " 'angle_ord',\n",
       " 'dist_pvec',\n",
       " 'cos_pvec',\n",
       " 'angle_pvec',\n",
       " 'dist_tvec',\n",
       " 'cos_tvec',\n",
       " 'angle_tvec',\n",
       " 'dist_wvec',\n",
       " 'cos_wvec',\n",
       " 'angle_wvec',\n",
       " 'dist_dvec',\n",
       " 'cos_dvec',\n",
       " 'angle_dvec',\n",
       " 'time_class_1',\n",
       " 'place_class_1',\n",
       " 'person_class_1',\n",
       " 'fillblank_class_1',\n",
       " 'time_class_2',\n",
       " 'place_class_2',\n",
       " 'person_class_2',\n",
       " 'fillblank_class_2',\n",
       " 'yesno_class_2',\n",
       " 'time_match',\n",
       " 'place_match',\n",
       " 'person_match',\n",
       " 'fillblank_match',\n",
       " 'yesno_match',\n",
       " 'be_1',\n",
       " 'be_2',\n",
       " 'do_1',\n",
       " 'do_2',\n",
       " 'can_1',\n",
       " 'can_2',\n",
       " 'should_1',\n",
       " 'should_2',\n",
       " 'will_1',\n",
       " 'will_2',\n",
       " 'have_1',\n",
       " 'have_2',\n",
       " 'would_1',\n",
       " 'would_2',\n",
       " 'could_1',\n",
       " 'could_2',\n",
       " 'when_1',\n",
       " 'when_2',\n",
       " 'where_1',\n",
       " 'where_2',\n",
       " 'who_1',\n",
       " 'who_2',\n",
       " 'whom_1',\n",
       " 'whom_2',\n",
       " 'what_1',\n",
       " 'what_2',\n",
       " 'how_1',\n",
       " 'how_2',\n",
       " 'why_1',\n",
       " 'why_2',\n",
       " 'which_1',\n",
       " 'which_2',\n",
       " 'if_1',\n",
       " 'if_2',\n",
       " 'for_1',\n",
       " 'for_2',\n",
       " 'explain_1',\n",
       " 'explain_2',\n",
       " 'ADV_pos_1',\n",
       " 'ADV_pos_2',\n",
       " 'NOUN_pos_1',\n",
       " 'NOUN_pos_2',\n",
       " 'ADP_pos_1',\n",
       " 'ADP_pos_2',\n",
       " 'PRON_pos_1',\n",
       " 'PRON_pos_2',\n",
       " 'PROPN_pos_1',\n",
       " 'PROPN_pos_2',\n",
       " 'SPACE_pos_1',\n",
       " 'SPACE_pos_2',\n",
       " 'DET_pos_1',\n",
       " 'DET_pos_2',\n",
       " 'SYM_pos_1',\n",
       " 'SYM_pos_2',\n",
       " 'INTJ_pos_1',\n",
       " 'INTJ_pos_2',\n",
       " 'PART_pos_1',\n",
       " 'PART_pos_2',\n",
       " 'PUNCT_pos_1',\n",
       " 'PUNCT_pos_2',\n",
       " 'VERB_pos_1',\n",
       " 'VERB_pos_2',\n",
       " 'X_pos_1',\n",
       " 'X_pos_2',\n",
       " 'CCONJ_pos_1',\n",
       " 'CCONJ_pos_2',\n",
       " 'NUM_pos_1',\n",
       " 'NUM_pos_2',\n",
       " 'ADJ_pos_1',\n",
       " 'ADJ_pos_2',\n",
       " '_dep_1',\n",
       " '_dep_2',\n",
       " 'cc_dep_1',\n",
       " 'cc_dep_2',\n",
       " 'intj_dep_1',\n",
       " 'intj_dep_2',\n",
       " 'meta_dep_1',\n",
       " 'meta_dep_2',\n",
       " 'nsubjpass_dep_1',\n",
       " 'nsubjpass_dep_2',\n",
       " 'csubj_dep_1',\n",
       " 'csubj_dep_2',\n",
       " 'oprd_dep_1',\n",
       " 'oprd_dep_2',\n",
       " 'neg_dep_1',\n",
       " 'neg_dep_2',\n",
       " 'csubjpass_dep_1',\n",
       " 'csubjpass_dep_2',\n",
       " 'mark_dep_1',\n",
       " 'mark_dep_2',\n",
       " 'auxpass_dep_1',\n",
       " 'auxpass_dep_2',\n",
       " 'advcl_dep_1',\n",
       " 'advcl_dep_2',\n",
       " 'aux_dep_1',\n",
       " 'aux_dep_2',\n",
       " 'amod_dep_1',\n",
       " 'amod_dep_2',\n",
       " 'ROOT_dep_1',\n",
       " 'ROOT_dep_2',\n",
       " 'prep_dep_1',\n",
       " 'prep_dep_2',\n",
       " 'nsubj_dep_1',\n",
       " 'nsubj_dep_2',\n",
       " 'nummod_dep_1',\n",
       " 'nummod_dep_2',\n",
       " 'advmod_dep_1',\n",
       " 'advmod_dep_2',\n",
       " 'punct_dep_1',\n",
       " 'punct_dep_2',\n",
       " 'quantmod_dep_1',\n",
       " 'quantmod_dep_2',\n",
       " 'acomp_dep_1',\n",
       " 'acomp_dep_2',\n",
       " 'compound_dep_1',\n",
       " 'compound_dep_2',\n",
       " 'ccomp_dep_1',\n",
       " 'ccomp_dep_2',\n",
       " 'poss_dep_1',\n",
       " 'poss_dep_2',\n",
       " 'npadvmod_dep_1',\n",
       " 'npadvmod_dep_2',\n",
       " 'attr_dep_1',\n",
       " 'attr_dep_2',\n",
       " 'dep_dep_1',\n",
       " 'dep_dep_2',\n",
       " 'det_dep_1',\n",
       " 'det_dep_2',\n",
       " 'nmod_dep_1',\n",
       " 'nmod_dep_2',\n",
       " 'dobj_dep_1',\n",
       " 'dobj_dep_2',\n",
       " 'dative_dep_1',\n",
       " 'dative_dep_2',\n",
       " 'pobj_dep_1',\n",
       " 'pobj_dep_2',\n",
       " 'expl_dep_1',\n",
       " 'expl_dep_2',\n",
       " 'predet_dep_1',\n",
       " 'predet_dep_2',\n",
       " 'preconj_dep_1',\n",
       " 'preconj_dep_2',\n",
       " 'behead_2',\n",
       " '_headdep_1',\n",
       " '_headdep_2',\n",
       " 'cc_headdep_1',\n",
       " 'cc_headdep_2',\n",
       " 'intj_headdep_1',\n",
       " 'intj_headdep_2',\n",
       " 'meta_headdep_1',\n",
       " 'meta_headdep_2',\n",
       " 'nsubjpass_headdep_1',\n",
       " 'nsubjpass_headdep_2',\n",
       " 'csubj_headdep_1',\n",
       " 'csubj_headdep_2',\n",
       " 'oprd_headdep_1',\n",
       " 'oprd_headdep_2',\n",
       " 'neg_headdep_1',\n",
       " 'neg_headdep_2',\n",
       " 'csubjpass_headdep_1',\n",
       " 'csubjpass_headdep_2',\n",
       " 'mark_headdep_1',\n",
       " 'mark_headdep_2',\n",
       " 'auxpass_headdep_1',\n",
       " 'auxpass_headdep_2',\n",
       " 'advcl_headdep_1',\n",
       " 'advcl_headdep_2',\n",
       " 'aux_headdep_1',\n",
       " 'aux_headdep_2',\n",
       " 'amod_headdep_1',\n",
       " 'amod_headdep_2',\n",
       " 'ROOT_headdep_1',\n",
       " 'ROOT_headdep_2',\n",
       " 'prep_headdep_1',\n",
       " 'prep_headdep_2',\n",
       " 'nsubj_headdep_1',\n",
       " 'nsubj_headdep_2',\n",
       " 'nummod_headdep_1',\n",
       " 'nummod_headdep_2',\n",
       " 'advmod_headdep_1',\n",
       " 'advmod_headdep_2',\n",
       " 'punct_headdep_1',\n",
       " 'punct_headdep_2',\n",
       " 'quantmod_headdep_1',\n",
       " 'quantmod_headdep_2',\n",
       " 'acomp_headdep_1',\n",
       " 'acomp_headdep_2',\n",
       " 'compound_headdep_1',\n",
       " 'compound_headdep_2',\n",
       " 'ccomp_headdep_1',\n",
       " 'ccomp_headdep_2',\n",
       " 'poss_headdep_1',\n",
       " 'poss_headdep_2',\n",
       " 'npadvmod_headdep_1',\n",
       " 'npadvmod_headdep_2',\n",
       " 'attr_headdep_1',\n",
       " 'attr_headdep_2',\n",
       " 'dep_headdep_1',\n",
       " 'dep_headdep_2',\n",
       " 'det_headdep_1',\n",
       " 'det_headdep_2',\n",
       " 'nmod_headdep_1',\n",
       " 'nmod_headdep_2',\n",
       " 'dobj_headdep_1',\n",
       " 'dobj_headdep_2',\n",
       " 'dative_headdep_1',\n",
       " 'dative_headdep_2',\n",
       " 'pobj_headdep_1',\n",
       " 'pobj_headdep_2',\n",
       " 'expl_headdep_1',\n",
       " 'expl_headdep_2',\n",
       " 'predet_headdep_1',\n",
       " 'predet_headdep_2',\n",
       " 'preconj_headdep_1',\n",
       " 'preconj_headdep_2']"
      ]
     },
     "execution_count": 10,
     "metadata": {},
     "output_type": "execute_result"
    }
   ],
   "source": [
    "## merge the tables into one\n",
    "\n",
    "def prep_table(table, table_key):\n",
    "    table_dist  = 'dist_'+table_key\n",
    "    table_cos   = 'cos_'+table_key\n",
    "    table_angle = 'angle_'+table_key\n",
    "\n",
    "    table.rename(columns={'dist':table_dist,'cos':table_cos,'angle':table_angle},\\\n",
    "                                                                   inplace=True)\n",
    "    nt = table[['linekey', table_dist, table_cos, table_angle]]\n",
    "    return nt\n",
    "\n",
    "def prep_ev_table(table, table_key):\n",
    "    vi_table_dist  = 'vidist_'+table_key\n",
    "    ex_table_dist  = 'exdist_'+table_key\n",
    "    table_cos      = 'cos_'+table_key\n",
    "    table_angle    = 'angle_'+table_key\n",
    "\n",
    "    table.rename(columns={'vidist':vi_table_dist,'exdist':ex_table_dist, \\\n",
    "                          'cos':table_cos,'angle':table_angle}, inplace=True)\n",
    "    nt = table[['linekey', vi_table_dist, ex_table_dist, table_cos, table_angle]]\n",
    "    return nt\n",
    "\n",
    "def prep_cub_table(table, table_key):\n",
    "    table_cos   = 'cos_'+table_key\n",
    "    table_angle = 'angle_'+table_key\n",
    "\n",
    "    table.rename(columns={'cos':table_cos,'angle':table_angle}, inplace=True)\n",
    "    nt = table[['linekey', table_cos, table_angle]]\n",
    "    return nt\n",
    "\n",
    "def merge_in(left_table, right_table):\n",
    "    merged = left_table.merge(right_table, on='linekey')\n",
    "    return merged\n",
    "\n",
    "\n",
    "merged = merge_in(prep_table(wvec_distance, 'wvec'), \\\n",
    "                  prep_table(dvec_distance, 'dvec'))\n",
    "merged = merge_in(prep_table(tvec_distance, 'tvec'), merged)\n",
    "merged = merge_in(prep_table(pvec_distance, 'pvec'), merged)\n",
    "\n",
    "merged = merge_in(prep_ev_table(ord_distance, 'ord'), merged)\n",
    "merged = merge_in(prep_ev_table(mix_distance, 'mix'), merged)\n",
    "merged = merge_in(prep_cub_table(cub_distance, 'cub'), merged)\n",
    "\n",
    "merged = merge_in(count_features, merged)\n",
    "merged = merge_in(quoted_strings, merged)\n",
    "merged = merge_in(first_words, merged)\n",
    "merged = merge_in(nf1, merged)\n",
    "merged = merge_in(nf2, merged)\n",
    "merged = merge_in(movement, merged)\n",
    "merged = merge_in(entity_counts, merged)\n",
    "merged = merge_in(rotation, merged)\n",
    "merged = merge_in(spacy_based, merged)\n",
    "merged = merge_in(data, merged)\n",
    "\n",
    "merged = merged[['Y',\\\n",
    " 'spacydist','spacycos','lem_nostop_dist','lem_nostop_cos','nostop_lem_corrdist',\\\n",
    " 'sumrotation1','sumrotation2','maxrotation1','maxrotation2',\\\n",
    " 'numrotated1','numrotated2','senlen1','senlen2','percent_rotated1','percent_rotated2',\\\n",
    " 'score','antiscore','narrow_score','narrow_antiscore', \\\n",
    " 'basedist','exbasedist','basecos',\\\n",
    " 'vi_dist','ex_dist','cos',\\\n",
    " 'vi_diff','ex_diff','cos_diff',\\\n",
    " 'f1dist','f2dist','fm1','fm2','head_dist1','head_dist2','pos_dist1','pos_dist2',\\\n",
    " 'headpos_dist1','headpos_dist2','tag_dist1','tag_dist2','headtag_dist1','headtag_dist2',\\\n",
    " 'dep_dist1','dep_dist2','headdep_dist1','headdep_dist2',\\\n",
    " 'blob_sim',\\\n",
    " 'quoted_string_is_present',\\\n",
    " 'ccq1','ccq2','ccdiff','wcq1','wcq2','abs_ccdiff','abs_wcdiff','r1','r2','abs_rr',\\\n",
    " 'odds_by_charcountdiff', 'odds_by_wordcountdiff',\\\n",
    " 'cos_cub','angle_cub','vidist_mix','exdist_mix',\\\n",
    " 'cos_mix','angle_mix','vidist_ord','exdist_ord','cos_ord','angle_ord','dist_pvec',\\\n",
    " 'cos_pvec','angle_pvec','dist_tvec',\\\n",
    " 'cos_tvec','angle_tvec','dist_wvec',\\\n",
    " 'cos_wvec','angle_wvec','dist_dvec','cos_dvec','angle_dvec',\\\n",
    " 'time_class_1', 'place_class_1', 'person_class_1', 'fillblank_class_1', \\\n",
    " 'time_class_2', 'place_class_2', 'person_class_2', 'fillblank_class_2', \\\n",
    " 'yesno_class_2', 'time_match', 'place_match', 'person_match', 'fillblank_match', \\\n",
    " 'yesno_match', 'be_1', 'be_2', 'do_1', 'do_2', 'can_1', 'can_2', 'should_1', 'should_2', \\\n",
    " 'will_1', 'will_2', 'have_1', 'have_2', 'would_1', 'would_2', 'could_1', 'could_2', \\\n",
    " 'when_1', 'when_2', 'where_1', 'where_2', 'who_1', 'who_2', 'whom_1', 'whom_2', 'what_1', \\\n",
    " 'what_2', 'how_1', 'how_2', 'why_1', 'why_2', 'which_1', 'which_2', 'if_1', 'if_2', \\\n",
    " 'for_1', 'for_2', 'explain_1', 'explain_2', 'ADV_pos_1', 'ADV_pos_2', \\\n",
    " 'NOUN_pos_1', 'NOUN_pos_2', 'ADP_pos_1', 'ADP_pos_2', 'PRON_pos_1', 'PRON_pos_2', \\\n",
    " 'PROPN_pos_1', 'PROPN_pos_2', 'SPACE_pos_1', 'SPACE_pos_2', 'DET_pos_1', 'DET_pos_2', \\\n",
    " 'SYM_pos_1', 'SYM_pos_2', 'INTJ_pos_1', 'INTJ_pos_2', 'PART_pos_1', 'PART_pos_2', \\\n",
    " 'PUNCT_pos_1', 'PUNCT_pos_2', 'VERB_pos_1', 'VERB_pos_2', 'X_pos_1', 'X_pos_2', \\\n",
    " 'CCONJ_pos_1', 'CCONJ_pos_2', 'NUM_pos_1', 'NUM_pos_2', 'ADJ_pos_1', 'ADJ_pos_2',\\\n",
    " '_dep_1', '_dep_2', 'cc_dep_1', 'cc_dep_2', 'intj_dep_1', 'intj_dep_2', 'meta_dep_1', \\\n",
    " 'meta_dep_2', 'nsubjpass_dep_1', 'nsubjpass_dep_2', 'csubj_dep_1', 'csubj_dep_2', \\\n",
    " 'oprd_dep_1', 'oprd_dep_2', 'neg_dep_1', 'neg_dep_2', 'csubjpass_dep_1', \\\n",
    " 'csubjpass_dep_2', 'mark_dep_1', 'mark_dep_2', 'auxpass_dep_1', 'auxpass_dep_2', \\\n",
    " 'advcl_dep_1', 'advcl_dep_2', 'aux_dep_1', 'aux_dep_2', 'amod_dep_1', 'amod_dep_2', \\\n",
    " 'ROOT_dep_1', 'ROOT_dep_2', 'prep_dep_1', 'prep_dep_2', 'nsubj_dep_1', 'nsubj_dep_2', \\\n",
    " 'nummod_dep_1', 'nummod_dep_2', 'advmod_dep_1', 'advmod_dep_2', 'punct_dep_1', \\\n",
    " 'punct_dep_2', 'quantmod_dep_1', 'quantmod_dep_2', 'acomp_dep_1', 'acomp_dep_2', \\\n",
    " 'compound_dep_1', 'compound_dep_2', 'ccomp_dep_1', 'ccomp_dep_2', 'poss_dep_1', \\\n",
    " 'poss_dep_2', 'npadvmod_dep_1', 'npadvmod_dep_2', 'attr_dep_1', 'attr_dep_2', \\\n",
    " 'dep_dep_1', 'dep_dep_2', 'det_dep_1', 'det_dep_2', 'nmod_dep_1', 'nmod_dep_2', \\\n",
    " 'dobj_dep_1', 'dobj_dep_2', 'dative_dep_1', 'dative_dep_2', 'pobj_dep_1', 'pobj_dep_2', \\\n",
    " 'expl_dep_1', 'expl_dep_2', 'predet_dep_1', 'predet_dep_2', 'preconj_dep_1', \\\n",
    " 'preconj_dep_2', 'behead_2', '_headdep_1', '_headdep_2', 'cc_headdep_1', 'cc_headdep_2', \\\n",
    " 'intj_headdep_1', 'intj_headdep_2', 'meta_headdep_1', 'meta_headdep_2', \\\n",
    " 'nsubjpass_headdep_1', 'nsubjpass_headdep_2', 'csubj_headdep_1', 'csubj_headdep_2', \\\n",
    " 'oprd_headdep_1', 'oprd_headdep_2', 'neg_headdep_1', 'neg_headdep_2', \\\n",
    " 'csubjpass_headdep_1', 'csubjpass_headdep_2', 'mark_headdep_1', 'mark_headdep_2', \\\n",
    " 'auxpass_headdep_1', 'auxpass_headdep_2', 'advcl_headdep_1', 'advcl_headdep_2', \\\n",
    " 'aux_headdep_1', 'aux_headdep_2', 'amod_headdep_1', 'amod_headdep_2', 'ROOT_headdep_1', \\\n",
    " 'ROOT_headdep_2', 'prep_headdep_1', 'prep_headdep_2', 'nsubj_headdep_1', 'nsubj_headdep_2', \\\n",
    " 'nummod_headdep_1', 'nummod_headdep_2', 'advmod_headdep_1', 'advmod_headdep_2', \\\n",
    " 'punct_headdep_1', 'punct_headdep_2', 'quantmod_headdep_1', 'quantmod_headdep_2', \\\n",
    " 'acomp_headdep_1', 'acomp_headdep_2', 'compound_headdep_1', 'compound_headdep_2', \\\n",
    " 'ccomp_headdep_1', 'ccomp_headdep_2', 'poss_headdep_1', 'poss_headdep_2', \\\n",
    " 'npadvmod_headdep_1', 'npadvmod_headdep_2', 'attr_headdep_1', 'attr_headdep_2', \\\n",
    " 'dep_headdep_1', 'dep_headdep_2', 'det_headdep_1', 'det_headdep_2', 'nmod_headdep_1', \\\n",
    " 'nmod_headdep_2', 'dobj_headdep_1', 'dobj_headdep_2', 'dative_headdep_1', \\\n",
    " 'dative_headdep_2', 'pobj_headdep_1', 'pobj_headdep_2', 'expl_headdep_1', \\\n",
    " 'expl_headdep_2', 'predet_headdep_1', 'predet_headdep_2', 'preconj_headdep_1', \\\n",
    " 'preconj_headdep_2']]\n",
    "\n",
    "mlist = list(merged)\n",
    "\n",
    "list(merged)"
   ]
  },
  {
   "cell_type": "code",
   "execution_count": null,
   "metadata": {
    "collapsed": true
   },
   "outputs": [],
   "source": []
  },
  {
   "cell_type": "code",
   "execution_count": 11,
   "metadata": {},
   "outputs": [
    {
     "name": "stdout",
     "output_type": "stream",
     "text": [
      "all gone\n"
     ]
    }
   ],
   "source": [
    "## getting things out of memory\n",
    "del wvec_distance\n",
    "del dvec_distance\n",
    "del tvec_distance\n",
    "del pvec_distance\n",
    "del ord_distance\n",
    "del cub_distance\n",
    "del mix_distance\n",
    "del data\n",
    "del count_features\n",
    "del quoted_strings\n",
    "del first_words\n",
    "del movement\n",
    "del rotation\n",
    "del entity_counts\n",
    "del spacy_based\n",
    "del nf1\n",
    "del nf2\n",
    "\n",
    "print 'all gone'"
   ]
  },
  {
   "cell_type": "code",
   "execution_count": null,
   "metadata": {
    "collapsed": true
   },
   "outputs": [],
   "source": []
  },
  {
   "cell_type": "code",
   "execution_count": 12,
   "metadata": {},
   "outputs": [
    {
     "name": "stdout",
     "output_type": "stream",
     "text": [
      "There are  144282 rows where Y = 1 and 243617 rows where Y = 0 .  Equalizing ...\n",
      "1    144282\n",
      "0    144282\n",
      "Name: Y, dtype: int64 288564\n",
      "data ready\n"
     ]
    }
   ],
   "source": [
    "#-----------------------------------------------------------------------------------\n",
    "# Balance the data.  Prefer to have the same number of matching and \n",
    "# non-matching question pairs\n",
    "#-----------------------------------------------------------------------------------\n",
    "\n",
    "shortnum = 0\n",
    "longnum  = 1\n",
    "lenser   = merged.Y.value_counts()\n",
    "if(lenser[0] > lenser[1]): \n",
    "    shortnum = 1; \n",
    "    longnum  = 0; \n",
    "    \n",
    "shortframe = merged[merged.Y == shortnum]\n",
    "targets    = merged[merged.Y == longnum].index.tolist()\n",
    "print 'There are ', len(shortframe), 'rows where Y =', shortnum, \\\n",
    "       'and', len(targets), 'rows where Y =', longnum, '.  Equalizing ...'\n",
    "\n",
    "overage = len(targets) - len(shortframe)    \n",
    "choice  = np.random.choice(targets, size=overage, replace=False).tolist()\n",
    "tset    = set(targets)\n",
    "tchoice = set(choice)\n",
    "targets_remaining = list(tset - tchoice)\n",
    "\n",
    "targets   = targets_remaining;\n",
    "longframe = merged.loc[targets]\n",
    "balanced  = pd.concat([longframe, shortframe])\n",
    "balanced.reset_index(drop=True, inplace=True)\n",
    "print balanced.Y.value_counts(), len(balanced)\n",
    "print 'data ready'"
   ]
  },
  {
   "cell_type": "code",
   "execution_count": null,
   "metadata": {
    "collapsed": true
   },
   "outputs": [],
   "source": []
  },
  {
   "cell_type": "code",
   "execution_count": 13,
   "metadata": {
    "collapsed": true
   },
   "outputs": [],
   "source": [
    "del merged"
   ]
  },
  {
   "cell_type": "code",
   "execution_count": 14,
   "metadata": {
    "collapsed": true
   },
   "outputs": [],
   "source": [
    "# so we don't learn on the Y values\n",
    "mlist.remove('Y')        \n",
    "\n",
    "# something wen't wrong with this .. need to fix, but it's not very important\n",
    "# because cosine similarity is not the target metric in the named entity movement file\n",
    "# anyway, and is barely altered by the changes there\n",
    "mlist.remove('cos_diff')   \n",
    "balanced = balanced.drop('cos_diff', axis=1)"
   ]
  },
  {
   "cell_type": "code",
   "execution_count": null,
   "metadata": {
    "collapsed": true
   },
   "outputs": [],
   "source": []
  },
  {
   "cell_type": "code",
   "execution_count": 16,
   "metadata": {},
   "outputs": [
    {
     "data": {
      "text/html": [
       "<div>\n",
       "<style>\n",
       "    .dataframe thead tr:only-child th {\n",
       "        text-align: right;\n",
       "    }\n",
       "\n",
       "    .dataframe thead th {\n",
       "        text-align: left;\n",
       "    }\n",
       "\n",
       "    .dataframe tbody tr th {\n",
       "        vertical-align: top;\n",
       "    }\n",
       "</style>\n",
       "<table border=\"1\" class=\"dataframe\">\n",
       "  <thead>\n",
       "    <tr style=\"text-align: right;\">\n",
       "      <th></th>\n",
       "      <th>0</th>\n",
       "    </tr>\n",
       "  </thead>\n",
       "  <tbody>\n",
       "  </tbody>\n",
       "</table>\n",
       "</div>"
      ],
      "text/plain": [
       "Empty DataFrame\n",
       "Columns: [0]\n",
       "Index: []"
      ]
     },
     "execution_count": 16,
     "metadata": {},
     "output_type": "execute_result"
    }
   ],
   "source": [
    "## make sure it's clean\n",
    "#balanced = balanced.fillna(0)\n",
    "nancols = pd.DataFrame(balanced.isnull().sum())\n",
    "nancols[nancols[0] > 0]"
   ]
  },
  {
   "cell_type": "code",
   "execution_count": null,
   "metadata": {
    "collapsed": true
   },
   "outputs": [],
   "source": []
  },
  {
   "cell_type": "markdown",
   "metadata": {},
   "source": [
    "PCA doesn't look too promising, but the random forest is ramarkable and a does better than these plots would suggest.\n",
    "\n",
    "I'm using PCA to get 3 components below, but prefer 2d plots.  Thus, there are three of them.  The plot on the right is what you would see if the \"arrow\" in the left and middle plots were coming directly at you."
   ]
  },
  {
   "cell_type": "code",
   "execution_count": null,
   "metadata": {
    "collapsed": true
   },
   "outputs": [],
   "source": []
  },
  {
   "cell_type": "code",
   "execution_count": 17,
   "metadata": {},
   "outputs": [
    {
     "data": {
      "image/png": "[encoded data removed]",
      "text/plain": [
       "<matplotlib.figure.Figure at 0x119adb0d0>"
      ]
     },
     "metadata": {},
     "output_type": "display_data"
    }
   ],
   "source": [
    "smalldata = balanced.copy()\n",
    "m1 = np.asarray(smalldata)\n",
    "\n",
    "from sklearn.decomposition import PCA, IncrementalPCA\n",
    "pca = PCA(n_components=3)  \n",
    "principal_components = pca.fit_transform(m1)\n",
    "smalldata.loc[smalldata.index,'pcx'] = principal_components[:, 0] \n",
    "smalldata.loc[smalldata.index,'pcy'] = principal_components[:, 1]\n",
    "smalldata.loc[smalldata.index,'pcz'] = principal_components[:, 2]\n",
    "\n",
    "fig, axs = plt.subplots(1,3, figsize=(20, 10))\n",
    "smalldata[(smalldata.Y==0)&(smalldata.pcy<400)&(smalldata.pcy>-300)&(smalldata.pcx<1000)]\\\n",
    "                      .plot(ax=axs[0],s=5,x='pcx',y='pcy',kind='scatter',color='orange');\n",
    "smalldata[(smalldata.Y==1)&(smalldata.pcy<400)&(smalldata.pcy>-300)&(smalldata.pcx<1000)]\\\n",
    "                      .plot(ax=axs[0],s=5,x='pcx',y='pcy',kind='scatter',color='blue');\n",
    "\n",
    "smalldata[(smalldata.Y==0)&(smalldata.pcz<500)&(smalldata.pcz>-300)&(smalldata.pcx<1000)]\\\n",
    "                      .plot(ax=axs[1],s=5,x='pcx',y='pcz',kind='scatter',color='red');\n",
    "smalldata[(smalldata.Y==1)&(smalldata.pcz<500)&(smalldata.pcz>-300)&(smalldata.pcx<1000)]\\\n",
    "                      .plot(ax=axs[1],s=5,x='pcx',y='pcz',kind='scatter',color='green');\n",
    "\n",
    "smalldata[(smalldata.Y==0)&(smalldata.pcz<300)&(smalldata.pcz>-300)&(smalldata.pcy>-400)]\\\n",
    "                      .plot(ax=axs[2],s=5,x='pcy',y='pcz',kind='scatter',color='pink');\n",
    "smalldata[(smalldata.Y==1)&(smalldata.pcz<300)&(smalldata.pcz>-300)&(smalldata.pcy>-400)]\\\n",
    "                      .plot(ax=axs[2],s=5,x='pcy',y='pcz',kind='scatter',color='black');\n",
    "    \n",
    "del smalldata\n",
    "del m1"
   ]
  },
  {
   "cell_type": "code",
   "execution_count": null,
   "metadata": {
    "collapsed": true
   },
   "outputs": [],
   "source": []
  },
  {
   "cell_type": "markdown",
   "metadata": {
    "collapsed": true
   },
   "source": [
    "Time to learn\n",
    "\n",
    "There is no cross validation in the steps below, due to a hardware limitation.  However, both the train_test split step below and the balancing step above randomize the data, so running the whole notebook X times should provide sufficient validation. "
   ]
  },
  {
   "cell_type": "code",
   "execution_count": null,
   "metadata": {
    "collapsed": true
   },
   "outputs": [],
   "source": []
  },
  {
   "cell_type": "code",
   "execution_count": 18,
   "metadata": {
    "collapsed": true
   },
   "outputs": [],
   "source": [
    "from sklearn.ensemble import RandomForestClassifier\n",
    "from sklearn.naive_bayes             import MultinomialNB\n",
    "from sklearn.model_selection         import train_test_split\n",
    "from sklearn.metrics                 import classification_report\n",
    "from sklearn.metrics                 import accuracy_score\n",
    "\n",
    "def make_xy(d): \n",
    "    X = d[mlist]    \n",
    "    print \"Using these features:\", list(X)\n",
    "\n",
    "    y = d.Y \n",
    "    return X, y\n",
    "\n",
    "\n",
    "def learn_from(learn_data, algo):\n",
    "    x, y = make_xy(learn_data)\n",
    "    \n",
    "    xtrain, xtest, ytrain, ytest = train_test_split(x, y, test_size=0.50) \n",
    "\n",
    "    print xtrain.shape\n",
    "    \n",
    "    if(algo == \"rf\"): # random forest\n",
    "        brain = RandomForestClassifier(n_estimators=160,     # number of trees\n",
    "                                       criterion='entropy',  # default: 'gini'\n",
    "                                       random_state=1)\n",
    "        brain.fit(xtrain, ytrain)\n",
    "        predictions = brain.predict(xtest)\n",
    "    else:             # naive bayes\n",
    "        brain = MultinomialNB(alpha=1).fit(xtrain, ytrain)\n",
    "        predictions = brain.predict(xtest)\n",
    "\n",
    "    print '    accuracy = ', accuracy_score(ytest, predictions)\n",
    "    return predictions, xtest, ytest, brain\n"
   ]
  },
  {
   "cell_type": "code",
   "execution_count": null,
   "metadata": {
    "collapsed": true
   },
   "outputs": [],
   "source": []
  },
  {
   "cell_type": "code",
   "execution_count": 19,
   "metadata": {},
   "outputs": [
    {
     "name": "stdout",
     "output_type": "stream",
     "text": [
      "Using these features: ['spacydist', 'spacycos', 'lem_nostop_dist', 'lem_nostop_cos', 'nostop_lem_corrdist', 'sumrotation1', 'sumrotation2', 'maxrotation1', 'maxrotation2', 'numrotated1', 'numrotated2', 'senlen1', 'senlen2', 'percent_rotated1', 'percent_rotated2', 'score', 'antiscore', 'narrow_score', 'narrow_antiscore', 'basedist', 'exbasedist', 'basecos', 'vi_dist', 'ex_dist', 'cos', 'vi_diff', 'ex_diff', 'f1dist', 'f2dist', 'fm1', 'fm2', 'head_dist1', 'head_dist2', 'pos_dist1', 'pos_dist2', 'headpos_dist1', 'headpos_dist2', 'tag_dist1', 'tag_dist2', 'headtag_dist1', 'headtag_dist2', 'dep_dist1', 'dep_dist2', 'headdep_dist1', 'headdep_dist2', 'blob_sim', 'quoted_string_is_present', 'ccq1', 'ccq2', 'ccdiff', 'wcq1', 'wcq2', 'abs_ccdiff', 'abs_wcdiff', 'r1', 'r2', 'abs_rr', 'odds_by_charcountdiff', 'odds_by_wordcountdiff', 'cos_cub', 'angle_cub', 'vidist_mix', 'exdist_mix', 'cos_mix', 'angle_mix', 'vidist_ord', 'exdist_ord', 'cos_ord', 'angle_ord', 'dist_pvec', 'cos_pvec', 'angle_pvec', 'dist_tvec', 'cos_tvec', 'angle_tvec', 'dist_wvec', 'cos_wvec', 'angle_wvec', 'dist_dvec', 'cos_dvec', 'angle_dvec', 'time_class_1', 'place_class_1', 'person_class_1', 'fillblank_class_1', 'time_class_2', 'place_class_2', 'person_class_2', 'fillblank_class_2', 'yesno_class_2', 'time_match', 'place_match', 'person_match', 'fillblank_match', 'yesno_match', 'be_1', 'be_2', 'do_1', 'do_2', 'can_1', 'can_2', 'should_1', 'should_2', 'will_1', 'will_2', 'have_1', 'have_2', 'would_1', 'would_2', 'could_1', 'could_2', 'when_1', 'when_2', 'where_1', 'where_2', 'who_1', 'who_2', 'whom_1', 'whom_2', 'what_1', 'what_2', 'how_1', 'how_2', 'why_1', 'why_2', 'which_1', 'which_2', 'if_1', 'if_2', 'for_1', 'for_2', 'explain_1', 'explain_2', 'ADV_pos_1', 'ADV_pos_2', 'NOUN_pos_1', 'NOUN_pos_2', 'ADP_pos_1', 'ADP_pos_2', 'PRON_pos_1', 'PRON_pos_2', 'PROPN_pos_1', 'PROPN_pos_2', 'SPACE_pos_1', 'SPACE_pos_2', 'DET_pos_1', 'DET_pos_2', 'SYM_pos_1', 'SYM_pos_2', 'INTJ_pos_1', 'INTJ_pos_2', 'PART_pos_1', 'PART_pos_2', 'PUNCT_pos_1', 'PUNCT_pos_2', 'VERB_pos_1', 'VERB_pos_2', 'X_pos_1', 'X_pos_2', 'CCONJ_pos_1', 'CCONJ_pos_2', 'NUM_pos_1', 'NUM_pos_2', 'ADJ_pos_1', 'ADJ_pos_2', '_dep_1', '_dep_2', 'cc_dep_1', 'cc_dep_2', 'intj_dep_1', 'intj_dep_2', 'meta_dep_1', 'meta_dep_2', 'nsubjpass_dep_1', 'nsubjpass_dep_2', 'csubj_dep_1', 'csubj_dep_2', 'oprd_dep_1', 'oprd_dep_2', 'neg_dep_1', 'neg_dep_2', 'csubjpass_dep_1', 'csubjpass_dep_2', 'mark_dep_1', 'mark_dep_2', 'auxpass_dep_1', 'auxpass_dep_2', 'advcl_dep_1', 'advcl_dep_2', 'aux_dep_1', 'aux_dep_2', 'amod_dep_1', 'amod_dep_2', 'ROOT_dep_1', 'ROOT_dep_2', 'prep_dep_1', 'prep_dep_2', 'nsubj_dep_1', 'nsubj_dep_2', 'nummod_dep_1', 'nummod_dep_2', 'advmod_dep_1', 'advmod_dep_2', 'punct_dep_1', 'punct_dep_2', 'quantmod_dep_1', 'quantmod_dep_2', 'acomp_dep_1', 'acomp_dep_2', 'compound_dep_1', 'compound_dep_2', 'ccomp_dep_1', 'ccomp_dep_2', 'poss_dep_1', 'poss_dep_2', 'npadvmod_dep_1', 'npadvmod_dep_2', 'attr_dep_1', 'attr_dep_2', 'dep_dep_1', 'dep_dep_2', 'det_dep_1', 'det_dep_2', 'nmod_dep_1', 'nmod_dep_2', 'dobj_dep_1', 'dobj_dep_2', 'dative_dep_1', 'dative_dep_2', 'pobj_dep_1', 'pobj_dep_2', 'expl_dep_1', 'expl_dep_2', 'predet_dep_1', 'predet_dep_2', 'preconj_dep_1', 'preconj_dep_2', 'behead_2', '_headdep_1', '_headdep_2', 'cc_headdep_1', 'cc_headdep_2', 'intj_headdep_1', 'intj_headdep_2', 'meta_headdep_1', 'meta_headdep_2', 'nsubjpass_headdep_1', 'nsubjpass_headdep_2', 'csubj_headdep_1', 'csubj_headdep_2', 'oprd_headdep_1', 'oprd_headdep_2', 'neg_headdep_1', 'neg_headdep_2', 'csubjpass_headdep_1', 'csubjpass_headdep_2', 'mark_headdep_1', 'mark_headdep_2', 'auxpass_headdep_1', 'auxpass_headdep_2', 'advcl_headdep_1', 'advcl_headdep_2', 'aux_headdep_1', 'aux_headdep_2', 'amod_headdep_1', 'amod_headdep_2', 'ROOT_headdep_1', 'ROOT_headdep_2', 'prep_headdep_1', 'prep_headdep_2', 'nsubj_headdep_1', 'nsubj_headdep_2', 'nummod_headdep_1', 'nummod_headdep_2', 'advmod_headdep_1', 'advmod_headdep_2', 'punct_headdep_1', 'punct_headdep_2', 'quantmod_headdep_1', 'quantmod_headdep_2', 'acomp_headdep_1', 'acomp_headdep_2', 'compound_headdep_1', 'compound_headdep_2', 'ccomp_headdep_1', 'ccomp_headdep_2', 'poss_headdep_1', 'poss_headdep_2', 'npadvmod_headdep_1', 'npadvmod_headdep_2', 'attr_headdep_1', 'attr_headdep_2', 'dep_headdep_1', 'dep_headdep_2', 'det_headdep_1', 'det_headdep_2', 'nmod_headdep_1', 'nmod_headdep_2', 'dobj_headdep_1', 'dobj_headdep_2', 'dative_headdep_1', 'dative_headdep_2', 'pobj_headdep_1', 'pobj_headdep_2', 'expl_headdep_1', 'expl_headdep_2', 'predet_headdep_1', 'predet_headdep_2', 'preconj_headdep_1', 'preconj_headdep_2']\n",
      "(144282, 310)\n",
      "    accuracy =  0.778267559363\n",
      "\n",
      "\n",
      "predictions value counts:\n",
      "1    82568\n",
      "0    61714\n",
      "Name: predictions, dtype: int64 \n",
      "\n",
      "      Y val value counts:\n",
      "0    72368\n",
      "1    71914\n",
      "Name: Y, dtype: int64 \n",
      "\n"
     ]
    }
   ],
   "source": [
    "predictions, xtest, ytest, brain = learn_from(learn_data=balanced, algo=\"rf\")\n",
    "\n",
    "review_frame                = pd.DataFrame(xtest)\n",
    "review_frame['Y']           = ytest\n",
    "review_frame['predictions'] = predictions\n",
    "\n",
    "print '\\n'\n",
    "print 'predictions value counts:\\n', review_frame.predictions.value_counts(), '\\n'\n",
    "print '      Y val value counts:\\n', review_frame.Y.value_counts(), '\\n'"
   ]
  },
  {
   "cell_type": "code",
   "execution_count": null,
   "metadata": {
    "collapsed": true
   },
   "outputs": [],
   "source": []
  },
  {
   "cell_type": "code",
   "execution_count": null,
   "metadata": {
    "collapsed": true
   },
   "outputs": [],
   "source": []
  },
  {
   "cell_type": "code",
   "execution_count": null,
   "metadata": {
    "collapsed": true
   },
   "outputs": [],
   "source": []
  },
  {
   "cell_type": "code",
   "execution_count": null,
   "metadata": {
    "collapsed": true
   },
   "outputs": [],
   "source": []
  },
  {
   "cell_type": "code",
   "execution_count": null,
   "metadata": {
    "collapsed": true
   },
   "outputs": [],
   "source": []
  },
  {
   "cell_type": "markdown",
   "metadata": {
    "collapsed": true
   },
   "source": [
    "############ BEGIN H2O ####################\n",
    "\n",
    "Trying out the H20 implementation of the random forest because I read that it handles categorical data gracefully.  "
   ]
  },
  {
   "cell_type": "code",
   "execution_count": null,
   "metadata": {
    "collapsed": true
   },
   "outputs": [],
   "source": []
  },
  {
   "cell_type": "code",
   "execution_count": 20,
   "metadata": {
    "collapsed": true
   },
   "outputs": [],
   "source": [
    "## H2O\n",
    "## https://medium.com/tech-vision/random-forest-classification-with-h2o-python-for-beginners-b31f6e4ccf3c\n",
    "import h2o\n",
    "from h2o.estimators import H2ORandomForestEstimator\n",
    "\n",
    "## https://stackoverflow.com/questions/43095970/creating-h2o-dataframe-from-pandas-and-unicode-error"
   ]
  },
  {
   "cell_type": "code",
   "execution_count": 21,
   "metadata": {},
   "outputs": [
    {
     "name": "stdout",
     "output_type": "stream",
     "text": [
      "Checking whether there is an H2O instance running at http://localhost:54321..... not found.\n",
      "Attempting to start a local H2O server...\n",
      "  Java Version: java version \"1.8.0_31\"; Java(TM) SE Runtime Environment (build 1.8.0_31-b13); Java HotSpot(TM) 64-Bit Server VM (build 25.31-b07, mixed mode)\n",
      "  Starting server from /usr/local/lib/python2.7/site-packages/h2o/backend/bin/h2o.jar\n",
      "  Ice root: /var/folders/3b/zj2f12nn6_lgrv18zv3mbjjc0000gn/T/tmpIUTH8r\n",
      "  JVM stdout: /var/folders/3b/zj2f12nn6_lgrv18zv3mbjjc0000gn/T/tmpIUTH8r/h2o_cntrtrst_started_from_python.out\n",
      "  JVM stderr: /var/folders/3b/zj2f12nn6_lgrv18zv3mbjjc0000gn/T/tmpIUTH8r/h2o_cntrtrst_started_from_python.err\n",
      "  Server is running at http://127.0.0.1:54321\n",
      "Connecting to H2O server at http://127.0.0.1:54321... successful.\n"
     ]
    },
    {
     "data": {
      "text/html": [
       "<div style=\"overflow:auto\"><table style=\"width:50%\"><tr><td>H2O cluster uptime:</td>\n",
       "<td>40 secs</td></tr>\n",
       "<tr><td>H2O cluster version:</td>\n",
       "<td>3.16.0.4</td></tr>\n",
       "<tr><td>H2O cluster version age:</td>\n",
       "<td>1 month and 13 days </td></tr>\n",
       "<tr><td>H2O cluster name:</td>\n",
       "<td>H2O_from_python_cntrtrst_3uu06h</td></tr>\n",
       "<tr><td>H2O cluster total nodes:</td>\n",
       "<td>1</td></tr>\n",
       "<tr><td>H2O cluster free memory:</td>\n",
       "<td>910 Mb</td></tr>\n",
       "<tr><td>H2O cluster total cores:</td>\n",
       "<td>2</td></tr>\n",
       "<tr><td>H2O cluster allowed cores:</td>\n",
       "<td>2</td></tr>\n",
       "<tr><td>H2O cluster status:</td>\n",
       "<td>accepting new members, healthy</td></tr>\n",
       "<tr><td>H2O connection url:</td>\n",
       "<td>http://127.0.0.1:54321</td></tr>\n",
       "<tr><td>H2O connection proxy:</td>\n",
       "<td>None</td></tr>\n",
       "<tr><td>H2O internal security:</td>\n",
       "<td>False</td></tr>\n",
       "<tr><td>H2O API Extensions:</td>\n",
       "<td>XGBoost, Algos, AutoML, Core V3, Core V4</td></tr>\n",
       "<tr><td>Python version:</td>\n",
       "<td>2.7.10 final</td></tr></table></div>"
      ],
      "text/plain": [
       "--------------------------  ----------------------------------------\n",
       "H2O cluster uptime:         40 secs\n",
       "H2O cluster version:        3.16.0.4\n",
       "H2O cluster version age:    1 month and 13 days\n",
       "H2O cluster name:           H2O_from_python_cntrtrst_3uu06h\n",
       "H2O cluster total nodes:    1\n",
       "H2O cluster free memory:    910 Mb\n",
       "H2O cluster total cores:    2\n",
       "H2O cluster allowed cores:  2\n",
       "H2O cluster status:         accepting new members, healthy\n",
       "H2O connection url:         http://127.0.0.1:54321\n",
       "H2O connection proxy:\n",
       "H2O internal security:      False\n",
       "H2O API Extensions:         XGBoost, Algos, AutoML, Core V3, Core V4\n",
       "Python version:             2.7.10 final\n",
       "--------------------------  ----------------------------------------"
      ]
     },
     "metadata": {},
     "output_type": "display_data"
    }
   ],
   "source": [
    "## start H2O\n",
    "h2o.init()"
   ]
  },
  {
   "cell_type": "code",
   "execution_count": null,
   "metadata": {
    "collapsed": true
   },
   "outputs": [],
   "source": []
  },
  {
   "cell_type": "code",
   "execution_count": 22,
   "metadata": {},
   "outputs": [
    {
     "name": "stdout",
     "output_type": "stream",
     "text": [
      "Parse progress: |█████████████████████████████████████████████████████████| 100%\n",
      "gone\n"
     ]
    }
   ],
   "source": [
    "## get an H2O frame\n",
    "hf = h2o.H2OFrame(balanced)\n",
    "\n",
    "del balanced\n",
    "print 'gone'"
   ]
  },
  {
   "cell_type": "code",
   "execution_count": null,
   "metadata": {
    "collapsed": true
   },
   "outputs": [],
   "source": []
  },
  {
   "cell_type": "code",
   "execution_count": 23,
   "metadata": {},
   "outputs": [
    {
     "name": "stdout",
     "output_type": "stream",
     "text": [
      "drf Model Build progress: |███████████████████████████████████████████████| 100%\n",
      "\n",
      "ModelMetricsRegression: drf\n",
      "** Reported on test data. **\n",
      "\n",
      "MSE: 0.151217192842\n",
      "RMSE: 0.388866548886\n",
      "MAE: 0.31724143171\n",
      "RMSLE: 0.273270546747\n",
      "Mean Residual Deviance: 0.151217192842\n",
      "\n"
     ]
    }
   ],
   "source": [
    "training_columns = mlist\n",
    "\n",
    "# Output parameter train against input parameters\n",
    "response_column = 'Y'\n",
    "\n",
    "# Split data into train and testing\n",
    "train, test = hf.split_frame(ratios=[0.5])\n",
    "\n",
    "# Define model\n",
    "#model = H2ORandomForestEstimator(ntrees=120, max_depth=15, nfolds=5)\n",
    "model = H2ORandomForestEstimator(ntrees=160)\n",
    "\n",
    "# Train model\n",
    "model.train(x=training_columns, y=response_column, training_frame=train)\n",
    "\n",
    "# Show performance\n",
    "performance = model.model_performance(test_data=test)\n",
    "print performance"
   ]
  },
  {
   "cell_type": "code",
   "execution_count": null,
   "metadata": {
    "collapsed": true
   },
   "outputs": [],
   "source": []
  },
  {
   "cell_type": "code",
   "execution_count": 24,
   "metadata": {},
   "outputs": [
    {
     "name": "stdout",
     "output_type": "stream",
     "text": [
      "H2O session _sid_ae24 closed.\n"
     ]
    }
   ],
   "source": [
    "h2o.cluster().shutdown()"
   ]
  },
  {
   "cell_type": "code",
   "execution_count": null,
   "metadata": {
    "collapsed": true
   },
   "outputs": [],
   "source": []
  },
  {
   "cell_type": "code",
   "execution_count": 20,
   "metadata": {
    "collapsed": true
   },
   "outputs": [],
   "source": [
    "############### END H2O #########################"
   ]
  },
  {
   "cell_type": "code",
   "execution_count": null,
   "metadata": {
    "collapsed": true
   },
   "outputs": [],
   "source": []
  },
  {
   "cell_type": "code",
   "execution_count": null,
   "metadata": {
    "collapsed": true
   },
   "outputs": [],
   "source": []
  },
  {
   "cell_type": "code",
   "execution_count": null,
   "metadata": {
    "collapsed": true
   },
   "outputs": [],
   "source": []
  },
  {
   "cell_type": "code",
   "execution_count": null,
   "metadata": {
    "collapsed": true
   },
   "outputs": [],
   "source": []
  },
  {
   "cell_type": "code",
   "execution_count": null,
   "metadata": {
    "collapsed": true
   },
   "outputs": [],
   "source": []
  },
  {
   "cell_type": "code",
   "execution_count": null,
   "metadata": {
    "collapsed": true
   },
   "outputs": [],
   "source": []
  },
  {
   "cell_type": "code",
   "execution_count": null,
   "metadata": {
    "collapsed": true
   },
   "outputs": [],
   "source": []
  },
  {
   "cell_type": "code",
   "execution_count": null,
   "metadata": {
    "collapsed": true
   },
   "outputs": [],
   "source": []
  },
  {
   "cell_type": "code",
   "execution_count": null,
   "metadata": {
    "collapsed": true
   },
   "outputs": [],
   "source": []
  }
 ],
 "metadata": {
  "kernelspec": {
   "display_name": "Python 2",
   "language": "python",
   "name": "python2"
  },
  "language_info": {
   "codemirror_mode": {
    "name": "ipython",
    "version": 2
   },
   "file_extension": ".py",
   "mimetype": "text/x-python",
   "name": "python",
   "nbconvert_exporter": "python",
   "pygments_lexer": "ipython2",
   "version": "2.7.10"
  }
 },
 "nbformat": 4,
 "nbformat_minor": 2
}
