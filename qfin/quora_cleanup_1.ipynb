{
 "cells": [
  {
   "cell_type": "markdown",
   "metadata": {},
   "source": [
    "<i style='color:green'>Cleaning up the Quora data</i>\n",
    "<hr>"
   ]
  },
  {
   "cell_type": "code",
   "execution_count": 1,
   "metadata": {},
   "outputs": [
    {
     "name": "stdout",
     "output_type": "stream",
     "text": [
      "ready\n"
     ]
    }
   ],
   "source": [
    "import pandas as pd\n",
    "import numpy as np\n",
    "import matplotlib.pyplot as plt\n",
    "import math\n",
    "import random\n",
    "import re\n",
    "from IPython.core.display import display, HTML\n",
    "\n",
    "print 'ready'"
   ]
  },
  {
   "cell_type": "code",
   "execution_count": null,
   "metadata": {
    "collapsed": true
   },
   "outputs": [],
   "source": []
  },
  {
   "cell_type": "code",
   "execution_count": 3,
   "metadata": {},
   "outputs": [
    {
     "name": "stdout",
     "output_type": "stream",
     "text": [
      "data ready\n"
     ]
    }
   ],
   "source": [
    "#############################################################################################\n",
    "## First pass\n",
    "## The data originally comes in a file called \"questions.csv\" which has a few small\n",
    "## annoyances. \n",
    "##\n",
    "## One is that not all quotation marks use the same encoding, which I've \n",
    "## cleaned up in VI. Another is that there were a number of lines that had \n",
    "## unintentional newlines in them, resulting in misread records, which I've\n",
    "## also addressed by hand.  \n",
    "##\n",
    "## Finally, both the question1 and question2 fields have quotation marks around \n",
    "## them which are often in addition to quotation marks that are actually part of the text.\n",
    "## This is a standard CSV encoding strategy that allows commas to be used as delimiters.\n",
    "## However, it results in many instances of multiple quoting (quotation marks around\n",
    "## quotation marks, playing different roles) that can run as many as 3 deep. It's standard,\n",
    "## and works, but I find it messy.\n",
    "##\n",
    "## I decided to use a TAB as a field delimiter for this data instead.  Since all the\n",
    "## questions come from online forms, there are definitely no tabs in the text itself.\n",
    "## I also replaced all instances of multiple quoting in the original file with single \n",
    "## quotes, since quotation marks are now just part of the text and play no role in CSV \n",
    "## processing.\n",
    "## \n",
    "## The perl code to do this is:\n",
    "##\n",
    "## ------------------------------------------------------------------------------------------\n",
    "## print \"id\\tqid1\\tqid2\\tquestion1\\tquestion2\\tis_duplicate\\n\";\n",
    "## open (Q, \"questions.csv\");\n",
    "## while(<Q>)\n",
    "## {\n",
    "##    next if ($_ =~ /is_duplicate/); # skip the header line\n",
    "##    chop;\n",
    "##    my($id,$qid1,$qid2,$q1,$q2,$y)=($_=~ m/(\\d+),(\\d+),(\\d+),\\\"(.*?)\\\",\\\"(.*?)\\\",\\\"(\\d)\\\"$/);\n",
    "##    $q1 =~ s/\\\"{1,5}/\\\"/g;\n",
    "##    $q2 =~ s/\\\"{1,5}/\\\"/g;\n",
    "##    print \"$id\\t$qid1\\t$qid2\\t$q1\\t$q2\\t$y\\n\";\n",
    "## }  \n",
    "## close Q;\n",
    "## ------------------------------------------------------------------------------------------\n",
    "##\n",
    "## which can be run as: ./to_tabby.pl > tabby_questions.csv\n",
    "##\n",
    "#############################################################################################\n",
    "\n",
    "# quoting=3 makes pandas treat quote characters as normal text\n",
    "data = pd.read_csv('DATA/tabby_questions.csv', sep='\\t', quoting=3)\n",
    "\n",
    "dropqueue = []\n",
    "print 'data ready'"
   ]
  },
  {
   "cell_type": "code",
   "execution_count": 5,
   "metadata": {},
   "outputs": [
    {
     "name": "stdout",
     "output_type": "stream",
     "text": [
      "404351\n"
     ]
    },
    {
     "data": {
      "text/html": [
       "<div>\n",
       "<style>\n",
       "    .dataframe thead tr:only-child th {\n",
       "        text-align: right;\n",
       "    }\n",
       "\n",
       "    .dataframe thead th {\n",
       "        text-align: left;\n",
       "    }\n",
       "\n",
       "    .dataframe tbody tr th {\n",
       "        vertical-align: top;\n",
       "    }\n",
       "</style>\n",
       "<table border=\"1\" class=\"dataframe\">\n",
       "  <thead>\n",
       "    <tr style=\"text-align: right;\">\n",
       "      <th></th>\n",
       "      <th>id</th>\n",
       "      <th>qid1</th>\n",
       "      <th>qid2</th>\n",
       "      <th>question1</th>\n",
       "      <th>question2</th>\n",
       "      <th>is_duplicate</th>\n",
       "    </tr>\n",
       "  </thead>\n",
       "  <tbody>\n",
       "    <tr>\n",
       "      <th>0</th>\n",
       "      <td>0</td>\n",
       "      <td>1</td>\n",
       "      <td>2</td>\n",
       "      <td>What is the step by step guide to invest in sh...</td>\n",
       "      <td>What is the step by step guide to invest in sh...</td>\n",
       "      <td>0</td>\n",
       "    </tr>\n",
       "    <tr>\n",
       "      <th>1</th>\n",
       "      <td>1</td>\n",
       "      <td>3</td>\n",
       "      <td>4</td>\n",
       "      <td>What is the story of Kohinoor (Koh-i-Noor) Dia...</td>\n",
       "      <td>What would happen if the Indian government sto...</td>\n",
       "      <td>0</td>\n",
       "    </tr>\n",
       "    <tr>\n",
       "      <th>2</th>\n",
       "      <td>2</td>\n",
       "      <td>5</td>\n",
       "      <td>6</td>\n",
       "      <td>How can I increase the speed of my internet co...</td>\n",
       "      <td>How can Internet speed be increased by hacking...</td>\n",
       "      <td>0</td>\n",
       "    </tr>\n",
       "  </tbody>\n",
       "</table>\n",
       "</div>"
      ],
      "text/plain": [
       "   id  qid1  qid2                                          question1  \\\n",
       "0   0     1     2  What is the step by step guide to invest in sh...   \n",
       "1   1     3     4  What is the story of Kohinoor (Koh-i-Noor) Dia...   \n",
       "2   2     5     6  How can I increase the speed of my internet co...   \n",
       "\n",
       "                                           question2  is_duplicate  \n",
       "0  What is the step by step guide to invest in sh...             0  \n",
       "1  What would happen if the Indian government sto...             0  \n",
       "2  How can Internet speed be increased by hacking...             0  "
      ]
     },
     "execution_count": 5,
     "metadata": {},
     "output_type": "execute_result"
    }
   ],
   "source": [
    "print len(data)\n",
    "data.head(3)"
   ]
  },
  {
   "cell_type": "code",
   "execution_count": null,
   "metadata": {
    "collapsed": true
   },
   "outputs": [],
   "source": []
  },
  {
   "cell_type": "code",
   "execution_count": 38,
   "metadata": {},
   "outputs": [
    {
     "name": "stdout",
     "output_type": "stream",
     "text": [
      ".. updated\n"
     ]
    }
   ],
   "source": [
    "#############################################################################################\n",
    "##  Drop any rows where either question1 or question2 is missing\n",
    "## .. just a couple of these\n",
    "#############################################################################################\n",
    "\n",
    "indices = data.question2[data.question1.isnull()].index; \n",
    "data.drop(indices, axis=0, inplace=True);\n",
    "\n",
    "indices = data.question2[data.question2.isnull()].index; \n",
    "data.drop(indices, axis=0, inplace=True);\n",
    "\n",
    "\n",
    "# drop the 'id' column, since it's identical to the index\n",
    "dropqueue.append('id')\n",
    "\n",
    "# rename 'is_duplicate' to 'Y'\n",
    "data.rename(columns={'is_duplicate':'Y'}, inplace=True)\n",
    "\n",
    "print '.. updated'"
   ]
  },
  {
   "cell_type": "code",
   "execution_count": null,
   "metadata": {
    "collapsed": true
   },
   "outputs": [],
   "source": []
  },
  {
   "cell_type": "code",
   "execution_count": null,
   "metadata": {
    "collapsed": true
   },
   "outputs": [],
   "source": [
    "#############################################################################################\n",
    "##  Drop any rows that have nothing left after any stop words are removed\n",
    "##  .. using spark to speed this up a bit\n",
    "#############################################################################################"
   ]
  },
  {
   "cell_type": "code",
   "execution_count": 22,
   "metadata": {
    "collapsed": true
   },
   "outputs": [],
   "source": [
    "import findspark\n",
    "findspark.init()\n",
    "import pyspark\n",
    "sc = pyspark.SparkContext()"
   ]
  },
  {
   "cell_type": "code",
   "execution_count": 46,
   "metadata": {
    "collapsed": true
   },
   "outputs": [],
   "source": [
    "from pyspark.sql import SQLContext\n",
    "sqlsc=SQLContext(sc)\n",
    "\n",
    "dd = data.copy()\n",
    "dd.reset_index(inplace=True)\n",
    "dd.rename(columns={'index':'linekey'}, inplace=True)\n",
    "dd = dd[['linekey', 'question1', 'question2']]\n",
    "\n",
    "sparkdf = sqlsc.createDataFrame(dd)\n",
    "rdd = sparkdf.rdd"
   ]
  },
  {
   "cell_type": "code",
   "execution_count": 52,
   "metadata": {},
   "outputs": [
    {
     "data": {
      "text/plain": [
       "[Row(linekey=0, question1=u'What is the step by step guide to invest in share market in india?', question2=u'What is the step by step guide to invest in share market?'),\n",
       " Row(linekey=1, question1=u'What is the story of Kohinoor (Koh-i-Noor) Diamond?', question2=u'What would happen if the Indian government stole the Kohinoor (Koh-i-Noor) diamond back?')]"
      ]
     },
     "execution_count": 52,
     "metadata": {},
     "output_type": "execute_result"
    }
   ],
   "source": [
    "rdd.take(2)"
   ]
  },
  {
   "cell_type": "code",
   "execution_count": null,
   "metadata": {
    "collapsed": true
   },
   "outputs": [],
   "source": []
  },
  {
   "cell_type": "code",
   "execution_count": 99,
   "metadata": {},
   "outputs": [
    {
     "name": "stdout",
     "output_type": "stream",
     "text": [
      "q1counts ready\n",
      "q2counts ready\n",
      "q1df ready\n",
      "q2df ready\n"
     ]
    }
   ],
   "source": [
    "# this will produce two lists of counts (one for each question column)\n",
    "# of words not including stopwords.  we'll use it to pull the indices of \n",
    "# questions that are too short (fewer than 2 words when stop words are taken out)\n",
    "\n",
    "import nltk\n",
    "from nltk.tokenize import RegexpTokenizer\n",
    "stopwords = nltk.corpus.stopwords.words()\n",
    "tokenizer = RegexpTokenizer(r'\\w+')\n",
    "\n",
    "q1counts=rdd.map(          \\\n",
    "      lambda line:(        \\\n",
    "            line.linekey,  \\\n",
    "            len(set([x for x in tokenizer.tokenize(line.question1) if x not in stopwords]))))\n",
    "\n",
    "print 'q1counts ready'\n",
    "\n",
    "q2counts=rdd.map(          \\\n",
    "      lambda line:(        \\\n",
    "            line.linekey,  \\\n",
    "            len(set([x for x in tokenizer.tokenize(line.question2) if x not in stopwords]))))\n",
    "\n",
    "print 'q2counts ready'\n",
    "\n",
    "q1df = q1counts.toDF().toPandas()\n",
    "print 'q1df ready'\n",
    "\n",
    "q2df = q2counts.toDF().toPandas()\n",
    "print 'q2df ready'"
   ]
  },
  {
   "cell_type": "code",
   "execution_count": 137,
   "metadata": {},
   "outputs": [
    {
     "name": "stdout",
     "output_type": "stream",
     "text": [
      "data has 404349  rows before removal\n",
      "data has 396628  rows after removal\n"
     ]
    }
   ],
   "source": [
    "# finally, remove the offending rows\n",
    "removelist = (q1df[q1df['_2'] <= 2].index).tolist()\n",
    "removelist.extend((q2df[q2df['_2'] <= 2].index).tolist())\n",
    "\n",
    "print 'data has', len(data), 'rows before removal'\n",
    "\n",
    "data.drop(removelist, axis=0, inplace=True);\n",
    "print 'data has', len(data), 'rows after removal'"
   ]
  },
  {
   "cell_type": "code",
   "execution_count": null,
   "metadata": {
    "collapsed": true
   },
   "outputs": [],
   "source": []
  },
  {
   "cell_type": "code",
   "execution_count": 381,
   "metadata": {
    "collapsed": true
   },
   "outputs": [],
   "source": [
    "sc.stop()"
   ]
  },
  {
   "cell_type": "code",
   "execution_count": null,
   "metadata": {
    "collapsed": true
   },
   "outputs": [],
   "source": []
  },
  {
   "cell_type": "code",
   "execution_count": 382,
   "metadata": {
    "collapsed": true
   },
   "outputs": [],
   "source": [
    "#############################################################################################\n",
    "##  re-encoding question IDs and duplicates\n",
    "#############################################################################################"
   ]
  },
  {
   "cell_type": "markdown",
   "metadata": {},
   "source": [
    "<i style='color:green'>\n",
    "'qid1' and 'qid2' are not individual question IDs.  They're more like question keys where a certain ID will appear as many times as that specific (exact duplicate) question appears. \n",
    "<p>\n",
    "Unfortunately, in many of these cases, the first pair with the given qid is unreleated to the others (ie - the matches aren't correct), which means that the keys are unusable. Also, there are no individual question IDs. Both issues will be remedied below.\n",
    "<p>Finally, some researchers have noticed that the IDs imply a chronology.  That is, higher IDs belong to questions that were submitted later in time at the quora web site.  However, that also means that those later questions were subject to some degree of filtering during the input process, which means that there are likely to be more questions that don't match any other questions in the higher ID registers than in the lower ones.  Removing that information is another good reason reset the IDs.\n",
    "<hr>\n",
    "The example below is typical of cases where the IDs are incorrect. Note that the ID, 77116, in most cases refers to a question about iPhones, but in one case refers to a question about color.</i>"
   ]
  },
  {
   "cell_type": "code",
   "execution_count": 145,
   "metadata": {},
   "outputs": [
    {
     "data": {
      "text/html": [
       "<div>\n",
       "<style>\n",
       "    .dataframe thead tr:only-child th {\n",
       "        text-align: right;\n",
       "    }\n",
       "\n",
       "    .dataframe thead th {\n",
       "        text-align: left;\n",
       "    }\n",
       "\n",
       "    .dataframe tbody tr th {\n",
       "        vertical-align: top;\n",
       "    }\n",
       "</style>\n",
       "<table border=\"1\" class=\"dataframe\">\n",
       "  <thead>\n",
       "    <tr style=\"text-align: right;\">\n",
       "      <th></th>\n",
       "      <th>qid1</th>\n",
       "      <th>qid2</th>\n",
       "      <th>question1</th>\n",
       "      <th>question2</th>\n",
       "      <th>Y</th>\n",
       "    </tr>\n",
       "  </thead>\n",
       "  <tbody>\n",
       "    <tr>\n",
       "      <th>38709</th>\n",
       "      <td>77116</td>\n",
       "      <td>77117</td>\n",
       "      <td>What is the opposite color green?</td>\n",
       "      <td>What color is the opposite of green?</td>\n",
       "      <td>1</td>\n",
       "    </tr>\n",
       "    <tr>\n",
       "      <th>52618</th>\n",
       "      <td>77116</td>\n",
       "      <td>104709</td>\n",
       "      <td>Where can I get statistics on iPhone application downloads?</td>\n",
       "      <td>IPhone application: is there any QA app?</td>\n",
       "      <td>0</td>\n",
       "    </tr>\n",
       "    <tr>\n",
       "      <th>59062</th>\n",
       "      <td>77116</td>\n",
       "      <td>117489</td>\n",
       "      <td>Where can I get statistics on iPhone application downloads?</td>\n",
       "      <td>How can I download \"unlock iPhone tool\"?</td>\n",
       "      <td>0</td>\n",
       "    </tr>\n",
       "    <tr>\n",
       "      <th>286341</th>\n",
       "      <td>77116</td>\n",
       "      <td>562725</td>\n",
       "      <td>Where can I get statistics on iPhone application downloads?</td>\n",
       "      <td>Where can I get download statistics on every iPhone and Android application?</td>\n",
       "      <td>0</td>\n",
       "    </tr>\n",
       "    <tr>\n",
       "      <th>332491</th>\n",
       "      <td>77116</td>\n",
       "      <td>651977</td>\n",
       "      <td>Where can I get statistics on iPhone application downloads?</td>\n",
       "      <td>How much would it cost to develop an app similar to the Yo app?</td>\n",
       "      <td>0</td>\n",
       "    </tr>\n",
       "  </tbody>\n",
       "</table>\n",
       "</div>"
      ],
      "text/plain": [
       "         qid1    qid2  \\\n",
       "38709   77116   77117   \n",
       "52618   77116  104709   \n",
       "59062   77116  117489   \n",
       "286341  77116  562725   \n",
       "332491  77116  651977   \n",
       "\n",
       "                                                          question1  \\\n",
       "38709                             What is the opposite color green?   \n",
       "52618   Where can I get statistics on iPhone application downloads?   \n",
       "59062   Where can I get statistics on iPhone application downloads?   \n",
       "286341  Where can I get statistics on iPhone application downloads?   \n",
       "332491  Where can I get statistics on iPhone application downloads?   \n",
       "\n",
       "                                                                           question2  \\\n",
       "38709                                           What color is the opposite of green?   \n",
       "52618                                       IPhone application: is there any QA app?   \n",
       "59062                                       How can I download \"unlock iPhone tool\"?   \n",
       "286341  Where can I get download statistics on every iPhone and Android application?   \n",
       "332491               How much would it cost to develop an app similar to the Yo app?   \n",
       "\n",
       "        Y  \n",
       "38709   1  \n",
       "52618   0  \n",
       "59062   0  \n",
       "286341  0  \n",
       "332491  0  "
      ]
     },
     "execution_count": 145,
     "metadata": {},
     "output_type": "execute_result"
    }
   ],
   "source": [
    "ql = data.qid1.value_counts()\n",
    "ql.append(data.qid2.value_counts())\n",
    "\n",
    "dropqueue.append('qid2')  # these columns will be replaced below, so we don't need them\n",
    "dropqueue.append('qid1')\n",
    "\n",
    "pd.options.display.max_colwidth = 150\n",
    "sample = 0; sample = 50;\n",
    "\n",
    "data[['qid1', 'qid2', 'question1', 'question2', 'Y']][data.qid1 == ql.index[sample]]"
   ]
  },
  {
   "cell_type": "code",
   "execution_count": null,
   "metadata": {
    "collapsed": true
   },
   "outputs": [],
   "source": []
  },
  {
   "cell_type": "code",
   "execution_count": 146,
   "metadata": {},
   "outputs": [
    {
     "data": {
      "text/html": [
       "<div>\n",
       "<style>\n",
       "    .dataframe thead tr:only-child th {\n",
       "        text-align: right;\n",
       "    }\n",
       "\n",
       "    .dataframe thead th {\n",
       "        text-align: left;\n",
       "    }\n",
       "\n",
       "    .dataframe tbody tr th {\n",
       "        vertical-align: top;\n",
       "    }\n",
       "</style>\n",
       "<table border=\"1\" class=\"dataframe\">\n",
       "  <thead>\n",
       "    <tr style=\"text-align: right;\">\n",
       "      <th></th>\n",
       "      <th>question1</th>\n",
       "      <th>question2</th>\n",
       "      <th>Y</th>\n",
       "    </tr>\n",
       "  </thead>\n",
       "  <tbody>\n",
       "    <tr>\n",
       "      <th>0</th>\n",
       "      <td>What is the step by step guide to invest in share market in india?</td>\n",
       "      <td>What is the step by step guide to invest in share market?</td>\n",
       "      <td>0</td>\n",
       "    </tr>\n",
       "    <tr>\n",
       "      <th>1</th>\n",
       "      <td>What is the story of Kohinoor (Koh-i-Noor) Diamond?</td>\n",
       "      <td>What would happen if the Indian government stole the Kohinoor (Koh-i-Noor) diamond back?</td>\n",
       "      <td>0</td>\n",
       "    </tr>\n",
       "  </tbody>\n",
       "</table>\n",
       "</div>"
      ],
      "text/plain": [
       "                                                            question1  \\\n",
       "0  What is the step by step guide to invest in share market in india?   \n",
       "1                 What is the story of Kohinoor (Koh-i-Noor) Diamond?   \n",
       "\n",
       "                                                                                  question2  \\\n",
       "0                                 What is the step by step guide to invest in share market?   \n",
       "1  What would happen if the Indian government stole the Kohinoor (Koh-i-Noor) diamond back?   \n",
       "\n",
       "   Y  \n",
       "0  0  \n",
       "1  0  "
      ]
     },
     "execution_count": 146,
     "metadata": {},
     "output_type": "execute_result"
    }
   ],
   "source": [
    "#############################################################################################\n",
    "##  dropping columns in dropqueue\n",
    "#############################################################################################\n",
    "data.drop(dropqueue, axis=1, inplace=True)\n",
    "data = data.reset_index(drop=True)\n",
    "\n",
    "#############################################################################################\n",
    "##  end housekeeping\n",
    "#############################################################################################\n",
    "data.head(2)"
   ]
  },
  {
   "cell_type": "code",
   "execution_count": null,
   "metadata": {
    "collapsed": true
   },
   "outputs": [],
   "source": []
  },
  {
   "cell_type": "markdown",
   "metadata": {},
   "source": [
    "<i style='color:green'>\n",
    "In the steps below, questions that are exact duplicates will be identified and assigned group numbers in columns 'g1', and 'g2', corresponding to the 'question1' and 'question2' columns. \n",
    "</i>"
   ]
  },
  {
   "cell_type": "code",
   "execution_count": 187,
   "metadata": {
    "scrolled": true
   },
   "outputs": [
    {
     "name": "stdout",
     "output_type": "stream",
     "text": [
      "step: d1\n",
      "step: d2\n",
      "step: number of groups in dfgroups 529136\n",
      "step: lists made\n",
      "group numbers assigned\n"
     ]
    }
   ],
   "source": [
    "#############################################################################################\n",
    "## figuring out which questions are exact duplicates \n",
    "#############################################################################################\n",
    "\n",
    "# Pull all of the questions in the 'question1' column into a dataframe\n",
    "d1 = data.copy()\n",
    "d1 = d1['question1'].to_frame()\n",
    "d1.reset_index(inplace=True)\n",
    "d1.rename(columns={'index':'i', 'question1':'q'}, inplace=True)\n",
    "print 'step: d1'\n",
    "\n",
    "# Do the same with the questions in the 'question2' column\n",
    "d2 = data.copy()\n",
    "d2 = d2['question2'].to_frame()\n",
    "d2.reset_index(inplace=True)\n",
    "\n",
    "# At this point in the creation of d2, there's a column called 'index' that's identical to \n",
    "# the index. The lines below add a constant to put all the values in that column\n",
    "# out of range of the original index (which was not done for d1) so that we can keep track \n",
    "# of which column the given question came from when they're all concatenated to one long list.\n",
    "# In the end, just as in d1 above, d2 will have two columns, [i, q], where each\n",
    "# i is a unique ID for the given q\n",
    "d2['ii'] = d2['index'] + 1000000 \n",
    "d2.drop('index', axis=1, inplace=True)\n",
    "d2.rename(columns={'ii':'i', 'question2':'q'}, inplace=True)\n",
    "print 'step: d2'\n",
    "\n",
    "# make one large dataframe where each question has a unique ID\n",
    "dd = pd.concat([d1, d2])\n",
    "dd.reset_index(drop=True, inplace=True)\n",
    "\n",
    "# group that large dataframe by question text\n",
    "dfgroups = dd.groupby('q')\n",
    "\n",
    "print 'step: number of groups in dfgroups', dfgroups.ngroups\n",
    "\n",
    "# the group keys are the actual questions: \n",
    "# e.g. - ki = dfgroups.get_group('How much was reddit sold for?').index\n",
    "\n",
    "# dfgroups keys hold unique questions, some but not all of which have \n",
    "# exact duplicates elsewhere in the data.  thus, in the two nested lists\n",
    "# below (lk1 and lk2), many of the rows will have only one item while a\n",
    "# smaller number will have more than one\n",
    "\n",
    "lk1 = []  # group list for 'question1' column\n",
    "lk2 = []  # group list for 'question2' column\n",
    "for k in dfgroups.groups.keys():\n",
    "    ki = dfgroups.get_group(k).i.tolist()\n",
    "    ki_q1 = [x for x in ki if x < 1000000]\n",
    "    ki_q2 = [(x - 1000000) for x in ki if x >=  1000000] # gets us back to real index values\n",
    "    lk1.append(ki_q1)  # group number is not stored because it = the index value of this list\n",
    "    lk2.append(ki_q2)\n",
    "        \n",
    "print 'step: lists made'\n",
    "\n",
    "\n",
    "# finally, the actual assignments.  There are now two lists (lk1 and lk2), each\n",
    "# containing nested lists of identical questions\n",
    "assignations = pd.DataFrame(index=data.index)\n",
    "assignations['g1'] = np.nan\n",
    "assignations['g2'] = np.nan\n",
    "\n",
    "# after transposing, each column heading represents a group ID\n",
    "lk1_df = pd.DataFrame(lk1).T \n",
    "for groupnum in lk1_df.columns:\n",
    "    z = lk1_df[groupnum].dropna()\n",
    "    for item in z:\n",
    "        # 'item' is the row number in 'data' in which this question is found\n",
    "        # so this says that, \"in row[item], question1 has the group id [groupnum]\".\n",
    "        assignations.set_value(item, 'g1', groupnum)\n",
    "         \n",
    "lk2_df = pd.DataFrame(lk2).T\n",
    "for groupnum in lk2_df.columns:\n",
    "    z = lk2_df[groupnum].dropna()\n",
    "    for item in z:\n",
    "        assignations.set_value(item, 'g2', groupnum)\n",
    "            \n",
    "            \n",
    "data['g1'] = assignations['g1']\n",
    "data['g2'] = assignations['g2']\n",
    "\n",
    "print 'group numbers assigned'"
   ]
  },
  {
   "cell_type": "code",
   "execution_count": null,
   "metadata": {
    "collapsed": true
   },
   "outputs": [],
   "source": []
  },
  {
   "cell_type": "code",
   "execution_count": null,
   "metadata": {
    "collapsed": true
   },
   "outputs": [],
   "source": [
    "#############################################################################################\n",
    "##  numbering individual questions properly\n",
    "#############################################################################################"
   ]
  },
  {
   "cell_type": "markdown",
   "metadata": {
    "collapsed": true
   },
   "source": [
    "<i style='color:green'>\n",
    "The questions also don't have individual IDs (as there are two questions per row, index IDs refer to pairs, not questions).  That might be useful, so this step adds them.\n",
    "</i>"
   ]
  },
  {
   "cell_type": "code",
   "execution_count": 188,
   "metadata": {},
   "outputs": [
    {
     "name": "stdout",
     "output_type": "stream",
     "text": [
      "done\n"
     ]
    }
   ],
   "source": [
    "# now let's number each question\n",
    "data['iid1'] = np.nan\n",
    "data['iid2'] = np.nan\n",
    "c = 0;\n",
    "for r in data.index:\n",
    "    c = c + 1;\n",
    "    data.set_value(r, 'iid1', c)\n",
    "    c = c + 1;\n",
    "    data.set_value(r, 'iid2', c)\n",
    "print 'done'\n",
    "    "
   ]
  },
  {
   "cell_type": "code",
   "execution_count": null,
   "metadata": {
    "collapsed": true
   },
   "outputs": [],
   "source": []
  },
  {
   "cell_type": "code",
   "execution_count": null,
   "metadata": {
    "collapsed": true
   },
   "outputs": [],
   "source": [
    "#############################################################################################\n",
    "##  creating metagroup tags\n",
    "#############################################################################################"
   ]
  },
  {
   "cell_type": "markdown",
   "metadata": {
    "collapsed": true
   },
   "source": [
    "<i style='color:green'>\n",
    "Finally, there are metagroups.  \n",
    "<p>\n",
    "A given question may, for example, have 5 exact duplicates, each of which is deemed equivalent in meaning to some other question that is not an exact duplicate.  Each of those questions, in turn, may have exact duplicates of their own, and then matching questions of their own, etc.\n",
    "<p>\n",
    "Altogether, then, there will be large groupings of questions that mean the same thing, which I'm calling metagroups (because I chose to use the term 'group' for exact duplicates).  Metagroups are identified below.\n",
    "<p>\n",
    "Although they won't be used in the final evalutation of sentences, they're useful as a way to break the data down for investigation.\n",
    "</i>"
   ]
  },
  {
   "cell_type": "code",
   "execution_count": 222,
   "metadata": {
    "collapsed": true
   },
   "outputs": [],
   "source": [
    "# get a group list\n",
    "G = data.g1.tolist()\n",
    "G.extend(data.g2.tolist())\n",
    "Gb = pd.Series(G).value_counts()\n",
    "Gbi = Gb.index "
   ]
  },
  {
   "cell_type": "code",
   "execution_count": null,
   "metadata": {
    "collapsed": true
   },
   "outputs": [],
   "source": []
  },
  {
   "cell_type": "code",
   "execution_count": 2,
   "metadata": {
    "scrolled": true
   },
   "outputs": [
    {
     "name": "stdout",
     "output_type": "stream",
     "text": [
      "done\n"
     ]
    }
   ],
   "source": [
    "#############################################################################################\n",
    "## identifying metagroups\n",
    "#############################################################################################\n",
    "\n",
    "metagroups = pd.DataFrame(index=range(0), columns=['metagroup'])\n",
    "metagroups.reset_index(drop=True, inplace=True)\n",
    "\n",
    "datagroups = data.copy()\n",
    "datagroups = datagroups[['g1', 'g2' ,'Y']]  # to reduce the memory footprint of this section\n",
    "datagroups['metagroup1'] = np.nan\n",
    "datagroups['metagroup2'] = np.nan\n",
    "\n",
    "def add_groups(r, GIDS):\n",
    "    for ind in r.index:\n",
    "        GIDS.add(r.loc[ind].g2)      # collect all groups indicated by matching questions\n",
    "        GIDS.add(r.loc[ind].g1)       \n",
    "    return GIDS\n",
    "\n",
    "# Get all the questions with a given group ID in g1 and g2 (ie, exact duplicates)\n",
    "# (GG, from above, is a list of group IDs for questions with at least one duplicate)\n",
    "gc        = 0\n",
    "trip      = 50000\n",
    "metaindex = 0\n",
    "\n",
    "for gi in Gbi: # Gbi is a list of all groups\n",
    "    gc = gc + 1\n",
    "    GIDS = set()                # set for group IDs for matching questions\n",
    "    GIDS.add(gi)                # adding the first one .. more to come\n",
    "    if (gc >= trip): print gc, '| gi = ', gi; trip = trip + 50000;\n",
    "    \n",
    "    rr=datagroups[((datagroups.g1.isin(GIDS))|(datagroups.g2.isin(GIDS)))&(datagroups.Y == 1)] # initial metagroup\n",
    "    GIDS  = add_groups(rr, GIDS)\n",
    "    \n",
    "    c       = 0\n",
    "    lastlen = len(GIDS)\n",
    "    stop    = 0\n",
    "    while((c < 10) & (stop == 0)):  # 10 seems to be more than enough\n",
    "        # now GIDS is bigger, so there's a bigger metagroup too\n",
    "        rr = datagroups[((datagroups.g1.isin(GIDS)) | (datagroups.g2.isin(GIDS))) & (datagroups.Y == 1)]\n",
    "        GIDS = add_groups(rr, GIDS)\n",
    "        \n",
    "        c = c + 1\n",
    "        newlen = len(GIDS)\n",
    "        \n",
    "        # eventually, GIDS stops getting bigger\n",
    "        if (newlen == lastlen): stop = 1; \n",
    "        lastlen = newlen\n",
    "\n",
    "    if len(GIDS) > 0:\n",
    "        datagroups.set_value(datagroups[datagroups.g1.isin(GIDS)].index, 'metagroup1', metaindex)\n",
    "        datagroups.set_value(datagroups[datagroups.g2.isin(GIDS)].index, 'metagroup2', metaindex)\n",
    "        metaindex = metaindex + 1\n",
    "\n",
    "print 'done'"
   ]
  },
  {
   "cell_type": "code",
   "execution_count": null,
   "metadata": {
    "collapsed": true
   },
   "outputs": [],
   "source": []
  },
  {
   "cell_type": "code",
   "execution_count": 226,
   "metadata": {
    "collapsed": true
   },
   "outputs": [],
   "source": [
    "data['metagroup1'] = datagroups['metagroup1']\n",
    "data['metagroup2'] = datagroups['metagroup2']"
   ]
  },
  {
   "cell_type": "code",
   "execution_count": 227,
   "metadata": {},
   "outputs": [
    {
     "data": {
      "text/html": [
       "<div>\n",
       "<style>\n",
       "    .dataframe thead tr:only-child th {\n",
       "        text-align: right;\n",
       "    }\n",
       "\n",
       "    .dataframe thead th {\n",
       "        text-align: left;\n",
       "    }\n",
       "\n",
       "    .dataframe tbody tr th {\n",
       "        vertical-align: top;\n",
       "    }\n",
       "</style>\n",
       "<table border=\"1\" class=\"dataframe\">\n",
       "  <thead>\n",
       "    <tr style=\"text-align: right;\">\n",
       "      <th></th>\n",
       "      <th>question1</th>\n",
       "      <th>question2</th>\n",
       "      <th>Y</th>\n",
       "      <th>g1</th>\n",
       "      <th>g2</th>\n",
       "      <th>iid1</th>\n",
       "      <th>iid2</th>\n",
       "      <th>metagroup1</th>\n",
       "      <th>metagroup2</th>\n",
       "      <th>linekey</th>\n",
       "    </tr>\n",
       "  </thead>\n",
       "  <tbody>\n",
       "    <tr>\n",
       "      <th>0</th>\n",
       "      <td>What is the step by step guide to invest in share market in india?</td>\n",
       "      <td>What is the step by step guide to invest in share market?</td>\n",
       "      <td>0</td>\n",
       "      <td>263854.0</td>\n",
       "      <td>335639.0</td>\n",
       "      <td>1.0</td>\n",
       "      <td>2.0</td>\n",
       "      <td>181604.0</td>\n",
       "      <td>520073.0</td>\n",
       "      <td>0</td>\n",
       "    </tr>\n",
       "    <tr>\n",
       "      <th>1</th>\n",
       "      <td>What is the story of Kohinoor (Koh-i-Noor) Diamond?</td>\n",
       "      <td>What would happen if the Indian government stole the Kohinoor (Koh-i-Noor) diamond back?</td>\n",
       "      <td>0</td>\n",
       "      <td>103260.0</td>\n",
       "      <td>184453.0</td>\n",
       "      <td>3.0</td>\n",
       "      <td>4.0</td>\n",
       "      <td>22526.0</td>\n",
       "      <td>87244.0</td>\n",
       "      <td>1</td>\n",
       "    </tr>\n",
       "    <tr>\n",
       "      <th>2</th>\n",
       "      <td>How can I increase the speed of my internet connection while using a VPN?</td>\n",
       "      <td>How can Internet speed be increased by hacking through DNS?</td>\n",
       "      <td>0</td>\n",
       "      <td>228552.0</td>\n",
       "      <td>494549.0</td>\n",
       "      <td>5.0</td>\n",
       "      <td>6.0</td>\n",
       "      <td>123054.0</td>\n",
       "      <td>189746.0</td>\n",
       "      <td>2</td>\n",
       "    </tr>\n",
       "    <tr>\n",
       "      <th>3</th>\n",
       "      <td>Why am I mentally very lonely? How can I solve it?</td>\n",
       "      <td>Find the remainder when [math]23^{24}[/math] is divided by 24,23?</td>\n",
       "      <td>0</td>\n",
       "      <td>106677.0</td>\n",
       "      <td>490131.0</td>\n",
       "      <td>7.0</td>\n",
       "      <td>8.0</td>\n",
       "      <td>381703.0</td>\n",
       "      <td>157523.0</td>\n",
       "      <td>3</td>\n",
       "    </tr>\n",
       "    <tr>\n",
       "      <th>4</th>\n",
       "      <td>Which one dissolve in water quikly sugar, salt, methane and carbon di oxide?</td>\n",
       "      <td>Which fish would survive in salt water?</td>\n",
       "      <td>0</td>\n",
       "      <td>412129.0</td>\n",
       "      <td>501558.0</td>\n",
       "      <td>9.0</td>\n",
       "      <td>10.0</td>\n",
       "      <td>26441.0</td>\n",
       "      <td>145424.0</td>\n",
       "      <td>4</td>\n",
       "    </tr>\n",
       "  </tbody>\n",
       "</table>\n",
       "</div>"
      ],
      "text/plain": [
       "                                                                      question1  \\\n",
       "0            What is the step by step guide to invest in share market in india?   \n",
       "1                           What is the story of Kohinoor (Koh-i-Noor) Diamond?   \n",
       "2     How can I increase the speed of my internet connection while using a VPN?   \n",
       "3                            Why am I mentally very lonely? How can I solve it?   \n",
       "4  Which one dissolve in water quikly sugar, salt, methane and carbon di oxide?   \n",
       "\n",
       "                                                                                  question2  \\\n",
       "0                                 What is the step by step guide to invest in share market?   \n",
       "1  What would happen if the Indian government stole the Kohinoor (Koh-i-Noor) diamond back?   \n",
       "2                               How can Internet speed be increased by hacking through DNS?   \n",
       "3                         Find the remainder when [math]23^{24}[/math] is divided by 24,23?   \n",
       "4                                                   Which fish would survive in salt water?   \n",
       "\n",
       "   Y        g1        g2  iid1  iid2  metagroup1  metagroup2  linekey  \n",
       "0  0  263854.0  335639.0   1.0   2.0    181604.0    520073.0        0  \n",
       "1  0  103260.0  184453.0   3.0   4.0     22526.0     87244.0        1  \n",
       "2  0  228552.0  494549.0   5.0   6.0    123054.0    189746.0        2  \n",
       "3  0  106677.0  490131.0   7.0   8.0    381703.0    157523.0        3  \n",
       "4  0  412129.0  501558.0   9.0  10.0     26441.0    145424.0        4  "
      ]
     },
     "execution_count": 227,
     "metadata": {},
     "output_type": "execute_result"
    }
   ],
   "source": [
    "data['linekey'] = data.index\n",
    "data.head()"
   ]
  },
  {
   "cell_type": "code",
   "execution_count": null,
   "metadata": {
    "collapsed": true
   },
   "outputs": [],
   "source": []
  },
  {
   "cell_type": "code",
   "execution_count": 350,
   "metadata": {
    "scrolled": true
   },
   "outputs": [
    {
     "name": "stdout",
     "output_type": "stream",
     "text": [
      "done\n"
     ]
    }
   ],
   "source": [
    "#############################################################################################\n",
    "## One final bit of cleanup - removing rows that have non-english characters in\n",
    "## the questions.  Although that's a situation that will come up in the wild, for\n",
    "## the purposes of this exploration it's just extra work.\n",
    "#############################################################################################\n",
    "\n",
    "import string\n",
    "\n",
    "def isEnglish(s):\n",
    "    return s.translate(None, string.punctuation).isalnum()\n",
    "\n",
    "non_english = []\n",
    "for i in data.index:\n",
    "    q1 = data.loc[i].question1; q1 = q1.replace(\" \", \"\");\n",
    "    q2 = data.loc[i].question2; q2 = q2.replace(\" \", \"\");\n",
    "    \n",
    "    if(isEnglish(q1)): donothing = 1\n",
    "    else:              non_english.append(i)\n",
    "\n",
    "    if(isEnglish(q2)): donothing = 1\n",
    "    else:              non_english.append(i)\n",
    "    \n",
    "print 'done'"
   ]
  },
  {
   "cell_type": "code",
   "execution_count": 377,
   "metadata": {},
   "outputs": [
    {
     "name": "stdout",
     "output_type": "stream",
     "text": [
      "388060\n",
      "388060\n"
     ]
    }
   ],
   "source": [
    "print len(data)\n",
    "data.drop(non_english, axis=0, inplace=True);\n",
    "print len(data)"
   ]
  },
  {
   "cell_type": "code",
   "execution_count": null,
   "metadata": {
    "collapsed": true
   },
   "outputs": [],
   "source": []
  },
  {
   "cell_type": "code",
   "execution_count": 384,
   "metadata": {
    "collapsed": true
   },
   "outputs": [],
   "source": [
    "#############################################################################################\n",
    "## Saving the data\n",
    "#############################################################################################"
   ]
  },
  {
   "cell_type": "code",
   "execution_count": null,
   "metadata": {
    "collapsed": true
   },
   "outputs": [],
   "source": []
  },
  {
   "cell_type": "code",
   "execution_count": 364,
   "metadata": {
    "collapsed": true
   },
   "outputs": [],
   "source": [
    "#############################################################################################\n",
    "## put it in a database\n",
    "#############################################################################################\n",
    "\n",
    "import MySQLdb\n",
    "from lib import trlib as trsubs\n",
    "\n",
    "def dosql(sql):\n",
    "    try:\n",
    "        cursor.execute(sql)\n",
    "        db.commit()\n",
    "    except TypeError as e:\n",
    "        print \"could not update\"\n",
    "        print (e)\n",
    " \n",
    "db, cursor = trsubs.openmysql()"
   ]
  },
  {
   "cell_type": "code",
   "execution_count": null,
   "metadata": {
    "collapsed": true
   },
   "outputs": [],
   "source": []
  },
  {
   "cell_type": "code",
   "execution_count": 372,
   "metadata": {
    "collapsed": true
   },
   "outputs": [],
   "source": [
    "# linekey, question1, question2, Y, g1, g2, iid1, iid2, metagroup1, metagroup2\n",
    "# the longest question is 910 characters\n",
    "sql = \"drop table quora_dd\"\n",
    "dosql(sql)\n",
    "\n",
    "sql = \"create table if not exists quora_dd (linekey int, question1 varchar(2000), question2 varchar(2000), Y int, g1 int, g2 int, iid1 int, iid2 int, metagroup1 int, metagroup2 int)\"\n",
    "dosql(sql)"
   ]
  },
  {
   "cell_type": "code",
   "execution_count": null,
   "metadata": {
    "collapsed": true
   },
   "outputs": [],
   "source": []
  },
  {
   "cell_type": "code",
   "execution_count": 380,
   "metadata": {},
   "outputs": [
    {
     "name": "stdout",
     "output_type": "stream",
     "text": [
      "insert into quora_dd (linekey, question1, question2, Y, g1, g2, iid1, iid2,        metagroup1, metagroup2) values (%s, %s, %s, %s, %s, %s, %s, %s, %s, %s) \n",
      "\n",
      "20000\n",
      "What do the most widely used Japanese textbooks teach about Japan's invasion of China?\n",
      "What do the Japanese think about China? \n",
      "\n",
      "40000\n",
      "How are the menus made internal in CSGO?\n",
      "How are cheat menu's made internal in CSGO? \n",
      "\n",
      "60000\n",
      "Can ions exist in nature as molecule?\n",
      "How do ions exist in nature? \n",
      "\n",
      "80000\n",
      "What are the strengths and weaknesses of the advising system at Indiana Wesleyan University?\n",
      "What are the strengths and weaknesses of the advising system at Ohio Wesleyan University? \n",
      "\n",
      "100000\n",
      "Did the students strikes in Montreal have any real profound effect on the collective consciousness of Quebec?\n",
      "Have you ever taken any sort of advice from someone that you regretted later? Did it have any profound effect on your life at all? \n",
      "\n",
      "120000\n",
      "How can I lose an extreme amount of weight?\n",
      "How can I lose post marriage weight? \n",
      "\n",
      "140000\n",
      "What options for broadband connections are there in Jammu (other than BSNL)?\n",
      "Can I connect more than one phone in one landline connection of BSNL? If so how? Should I contact BSNL for it? \n",
      "\n",
      "160000\n",
      "What are some examples of gamified websites without using general points badges?\n",
      "How can I gamify a free SMS web based service? \n",
      "\n",
      "180000\n",
      "What happens when you change your major?\n",
      "How does your state of mind change when you're really tired? What happens to you psychologically? \n",
      "\n",
      "200000\n",
      "What is the first thing that comes to your mind when you hear the word apple?\n",
      "What is the first thing that comes in your mind when you hear the word \"PAKISTAN\"? \n",
      "\n",
      "220000\n",
      "Is it a right time to invest on mutual fund?\n",
      "Is this the right time to invest in mutual funds? \n",
      "\n",
      "240000\n",
      "Who are some lesser known important historical figures of Palestine and what should people know about them?\n",
      "Who are some lesser known important historical figures of India and what should people know about them? \n",
      "\n",
      "260000\n",
      "Is it true that career in designing requires lots of money as compared to the other fields?\n",
      "Is it true that the career in designing requires a lot of money as compared to the other fields? \n",
      "\n",
      "280000\n",
      "Why do some people, especially those who don't have any scientific knowledge, become atheists after giving up religion, not deists or agnostics?\n",
      "Why do some people blame religion and not humanity? \n",
      "\n",
      "300000\n",
      "Which are the famous historical places in Chhattisgarh?\n",
      "Where are the historical places in Chhattisgarh? \n",
      "\n",
      "320000\n",
      "I got C grade in hindi FA-1 exam of class 10.Can i score 10 CGPA in final exam?\n",
      "How do I get CGPA 10 in CBSE Class 10? \n",
      "\n",
      "340000\n",
      "Love after arranged marriage?\n",
      "Reservations in Present India (after 69 years of freedom) are still according to Castes and not according to Per Annum Income. Why? \n",
      "\n",
      "360000\n",
      "What are some of the best jokes ever told?\n",
      "What is the best joke you have ever heard? \n",
      "\n",
      "380000\n",
      "Which is correct: The meeting is postponed to Wednesday, The meeting is postponing to Wednesday or The meeting postponed to Wednesday?\n",
      "Is it proper grammar to say \"I missed my flight to a meeting\" or \"I missed my flight for a meeting\"? \n",
      "\n"
     ]
    }
   ],
   "source": [
    "# fill the table with the current data\n",
    "sql = \"insert into quora_dd (linekey, question1, question2, Y, g1, g2, iid1, iid2, \\\n",
    "       metagroup1, metagroup2) values (%s, %s, %s, %s, %s, %s, %s, %s, %s, %s)\"\n",
    "print sql, '\\n'\n",
    "\n",
    "count     = 0\n",
    "truecount = 0\n",
    "mark      = 20000\n",
    "\n",
    "locald = data.copy()\n",
    "for i in locald.index:\n",
    "    lk = str(locald.loc[i]['linekey'])\n",
    "    q1 = str(locald.loc[i].question1)\n",
    "    q2 = str(locald.loc[i].question2)\n",
    "\n",
    "    var1  = lk\n",
    "    var2  = q1\n",
    "    var3  = q2\n",
    "    var4  = str(locald.loc[i]['Y'])\n",
    "    var5  = str(locald.loc[i]['g1'])\n",
    "    var6  = str(locald.loc[i]['g2'])\n",
    "    var7  = str(locald.loc[i]['iid1'])\n",
    "    var8  = str(locald.loc[i]['iid2'])\n",
    "    var9  = str(locald.loc[i]['metagroup1'])\n",
    "    var10 = str(locald.loc[i]['metagroup2'])\n",
    "\n",
    "    cursor.execute(sql, (var1, var2, var3, var4, var5, var6, var7, var8, var9, var10))\n",
    "    \n",
    "    if(count >= mark): \n",
    "        print truecount; \n",
    "        print q1; \n",
    "        print q2, '\\n'; \n",
    "        count = 0;\n",
    "    count     = count + 1\n",
    "    truecount = truecount + 1\n",
    "\n",
    "db.commit()\n",
    "del locald\n",
    "print 'done'"
   ]
  },
  {
   "cell_type": "code",
   "execution_count": null,
   "metadata": {
    "collapsed": true
   },
   "outputs": [],
   "source": []
  },
  {
   "cell_type": "code",
   "execution_count": 385,
   "metadata": {
    "collapsed": true
   },
   "outputs": [],
   "source": [
    "trsubs.closemysql(db)"
   ]
  },
  {
   "cell_type": "code",
   "execution_count": null,
   "metadata": {
    "collapsed": true
   },
   "outputs": [],
   "source": []
  },
  {
   "cell_type": "code",
   "execution_count": null,
   "metadata": {
    "collapsed": true
   },
   "outputs": [],
   "source": []
  },
  {
   "cell_type": "code",
   "execution_count": null,
   "metadata": {
    "collapsed": true
   },
   "outputs": [],
   "source": []
  },
  {
   "cell_type": "code",
   "execution_count": null,
   "metadata": {
    "collapsed": true
   },
   "outputs": [],
   "source": []
  },
  {
   "cell_type": "code",
   "execution_count": null,
   "metadata": {
    "collapsed": true
   },
   "outputs": [],
   "source": []
  }
 ],
 "metadata": {
  "kernelspec": {
   "display_name": "Python 2",
   "language": "python",
   "name": "python2"
  },
  "language_info": {
   "codemirror_mode": {
    "name": "ipython",
    "version": 2
   },
   "file_extension": ".py",
   "mimetype": "text/x-python",
   "name": "python",
   "nbconvert_exporter": "python",
   "pygments_lexer": "ipython2",
   "version": "2.7.10"
  }
 },
 "nbformat": 4,
 "nbformat_minor": 2
}
